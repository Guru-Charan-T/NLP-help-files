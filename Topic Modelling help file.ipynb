{
 "cells": [
  {
   "cell_type": "markdown",
   "id": "d97b08e3",
   "metadata": {},
   "source": [
    "# Topic Modelling"
   ]
  },
  {
   "cell_type": "code",
   "execution_count": 2,
   "id": "ad96a0b8",
   "metadata": {},
   "outputs": [],
   "source": [
    "#!pip install pyLDAvis\n",
    "import pyLDAvis"
   ]
  },
  {
   "cell_type": "code",
   "execution_count": 3,
   "id": "dcdb8d82",
   "metadata": {},
   "outputs": [],
   "source": [
    "import pyLDAvis.gensim_models"
   ]
  },
  {
   "cell_type": "code",
   "execution_count": 4,
   "id": "c528a715",
   "metadata": {},
   "outputs": [
    {
     "name": "stderr",
     "output_type": "stream",
     "text": [
      "C:\\Users\\guruc\\anaconda3\\lib\\site-packages\\scipy\\sparse\\sparsetools.py:21: DeprecationWarning: `scipy.sparse.sparsetools` is deprecated!\n",
      "scipy.sparse.sparsetools is a private module for scipy.sparse, and should not be used.\n",
      "  _deprecated()\n"
     ]
    }
   ],
   "source": [
    "import spacy\n",
    "import gensim"
   ]
  },
  {
   "cell_type": "code",
   "execution_count": 5,
   "id": "b528581f",
   "metadata": {},
   "outputs": [],
   "source": [
    "nlp=spacy.load('en_core_web_sm')"
   ]
  },
  {
   "cell_type": "markdown",
   "id": "0b2040af",
   "metadata": {},
   "source": [
    "## Accessing texts"
   ]
  },
  {
   "cell_type": "code",
   "execution_count": 6,
   "id": "6023993c",
   "metadata": {},
   "outputs": [],
   "source": [
    "text_1='''chess, one of the oldest and most popular board games, played by two opponents on a checkered board with specially designed pieces of contrasting colours, commonly white and black. White moves first, after which the players alternate turns in accordance with fixed rules, each player attempting to force the opponent’s principal piece, the King, into checkmate—a position where it is unable to avoid capture.\n",
    "Chess first appeared in India about the 6th century AD and by the 10th century had spread from Asia to the Middle East and Europe. Since at least the 15th century, chess has been known as the “royal game” because of its popularity among the nobility. Rules and set design slowly evolved until both reached today’s standard in the early 19th century. Once an intellectual diversion favoured by the upper classes, chess went through an explosive growth in interest during the 20th century as professional and state-sponsored players competed for an officially recognized world championship title and increasingly lucrative tournament prizes. Organized chess tournaments, postal correspondence games, and Internet chess now attract men, women, and children around the world.\n",
    "This article provides an in-depth review of the history and the theory of the game by noted author and international grandmaster Andrew Soltis.\n",
    "Characteristics of the game\n",
    "Chess is played on a board of 64 squares arranged in eight vertical rows called files and eight horizontal rows called ranks. These squares alternate between two colours: one light, such as white, beige, or yellow; and the other dark, such as black or green. The board is set between the two opponents so that each player has a light-coloured square at the right-hand corner.\n",
    "Algebraic notation\n",
    "Individual moves and entire games can be recorded using one of several forms of notation. By far the most widely used form, algebraic (or coordinate) notation, identifies each square from the point of view of the player with the light-coloured pieces, called White. The eight ranks are numbered 1 through 8 beginning with the rank closest to White. The files are labeled a through h beginning with the file at White’s left hand. Each square has a name consisting of its letter and number, such as b3 or g8. Additionally, files a through d are referred to as the queenside, and files e through h as the kingside. See Figure 1.\n",
    "Get a Britannica Premium subscription and gain access to exclusive content.\n",
    "Subscribe Now\n",
    "Moves\n",
    "The board represents a battlefield in which two armies fight to capture each other’s king. A player’s army consists of 16 pieces that begin play on the two ranks closest to that player. There are six different types of pieces: king, rook, bishop, queen, knight, and pawn; the pieces are distinguished by appearance and by how they move. The players alternate moves, White going first.\n",
    "King\n",
    "White’s king begins the game on e1. Black’s king is opposite at e8. Each king can move one square in any direction; e.g., White’s king can move from e1 to d1, d2, e2, f2, or f1.\n",
    "Rook\n",
    "Each player has two rooks (formerly also known as castles), which begin the game on the corner squares a1 and h1 for White, a8 and h8 for Black. A rook can move vertically or horizontally to any unobstructed square along the file or rank on which it is placed.\n",
    "Bishop\n",
    "Each player has two bishops, and they begin the game at c1 and f1 for White, c8 and f8 for Black. A bishop can move to any unobstructed square on the diagonal on which it is placed. Therefore, each player has one bishop that travels only on light-coloured squares and one bishop that travels only on dark-coloured squares.\n",
    "Queen\n",
    "Each player has one queen, which combines the powers of the rook and bishop and is thus the most mobile and powerful piece. The White queen begins at d1, the Black queen at d8.\n",
    "Knight\n",
    "Each player has two knights, and they begin the game on the squares between their rooks and bishops—i.e., at b1 and g1 for White and b8 and g8 for Black. The knight has the trickiest move, an L-shape of two steps: first one square like a rook, then one square like a bishop, but always in a direction away from the starting square. A knight at e4 could move to f2, g3, g5, f6, d6, c5, c3, or d2. The knight has the unique ability to jump over any other piece to reach its destination. It always moves to a square of a different colour.\n",
    "Capturing\n",
    "The king, rook, bishop, queen, and knight capture enemy pieces in the same manner that they move. For example, a White queen on d3 can capture a Black rook at h7 by moving to h7 and removing the enemy piece from the board. Pieces can capture only enemy pieces.\n",
    "Pawns\n",
    "Each player has eight pawns, which begin the game on the second rank closest to each player; i.e., White’s pawns start at a2, b2, c2, and so on, while Black’s pawns start at a7, b7, c7, and so on. The pawns are unique in several ways. A pawn can move only forward; it can never retreat. It moves differently than it captures. A pawn moves to the square directly ahead of it but captures on the squares diagonally in front of it; e.g., a White pawn at f5 can move to f6 but can capture only on g6 or e6. An unmoved pawn has the option of moving one or two squares forward. This is the reason for another peculiar option, called en passant—that is, in passing—available to a pawn when an enemy pawn on an adjoining file advances two squares on its initial move and could have been captured had it moved only one square. The first pawn can take the advancing pawn en passant, as if it had advanced only one square. An en passant capture must be made then or not at all. Only pawns can be captured en passant. The last unique feature of the pawn occurs if it reaches the end of a file; it must then be promoted to—that is, exchanged for—a queen, rook, bishop, or knight.\n",
    "Castling\n",
    "The one exception to the rule that a player may move only one piece at a time is a compound move of king and rook called castling. A player castles by shifting the king two squares in the direction of a rook, which is then placed on the square the king has crossed. For example, White can castle kingside by moving the king from e1 to g1 and the rook from h1 to f1. Castling is permitted only once in a game and is prohibited if the king or rook has previously moved or if any of the squares between them is occupied. Also, castling is not legal if the square the king starts on, crosses, or finishes on is attacked by an enemy piece.\n",
    "Relative piece values\n",
    "Assigning the pawn a value of 1, the values of the other pieces are approximately as follows: knight 3, bishop 3, rook 5, and queen 9. The relative values of knights and bishops vary with different pawn structures. Additionally, tactical considerations may temporarily override the pieces’ usual relative values. Material concerns are secondary to winning.\n",
    "Object of the game\n",
    "When a player moves a piece to a square on which it attacks the enemy king—that is, a square from which it could capture the king if the king is not shielded or moved—the king is said to be in check. The game is won when one king is in check and cannot avoid capture on the next move; this is called checkmate. A game also can end when a player, believing the situation to be hopeless, acknowledges defeat by resigning.\n",
    "There are three possible results in chess: win, lose, or draw. There are six ways a draw can come about: (1) by mutual consent, (2) when neither player has enough pieces to deliver checkmate, (3) when one player can check the enemy king endlessly (perpetual check), (4) when a player who is not in check has no legal move (stalemate), (5) when an identical position occurs three times with the same player having the right to move, and (6) when no piece has been captured and no pawn has been moved within a period of 50 moves.\n",
    "In competitive events, a victory is scored as one point, a draw as half a point, and a loss as no points.'''"
   ]
  },
  {
   "cell_type": "code",
   "execution_count": 7,
   "id": "981dff34",
   "metadata": {},
   "outputs": [
    {
     "data": {
      "text/plain": [
       "'chess, one of the oldest and most popular board games, played by two opponents on a checkered board with specially designed pieces of contrasting colours, commonly white and black. White moves first, after which the players alternate turns in accordance with fixed rules, each player attempting to force the opponent’s principal piece, the King, into checkmate—a position where it is unable to avoid capture.\\nChess first appeared in India about the 6th century AD and by the 10th century had spread from Asia to the Middle East and Europe. Since at least the 15th century, chess has been known as the “royal game” because of its popularity among the nobility. Rules and set design slowly evolved until both reached today’s standard in the early 19th century. Once an intellectual diversion favoured by the upper classes, chess went through an explosive growth in interest during the 20th century as professional and state-sponsored players competed for an officially recognized world championship title and increasingly lucrative tournament prizes. Organized chess tournaments, postal correspondence games, and Internet chess now attract men, women, and children around the world.\\nThis article provides an in-depth review of the history and the theory of the game by noted author and international grandmaster Andrew Soltis.\\nCharacteristics of the game\\nChess is played on a board of 64 squares arranged in eight vertical rows called files and eight horizontal rows called ranks. These squares alternate between two colours: one light, such as white, beige, or yellow; and the other dark, such as black or green. The board is set between the two opponents so that each player has a light-coloured square at the right-hand corner.\\nAlgebraic notation\\nIndividual moves and entire games can be recorded using one of several forms of notation. By far the most widely used form, algebraic (or coordinate) notation, identifies each square from the point of view of the player with the light-coloured pieces, called White. The eight ranks are numbered 1 through 8 beginning with the rank closest to White. The files are labeled a through h beginning with the file at White’s left hand. Each square has a name consisting of its letter and number, such as b3 or g8. Additionally, files a through d are referred to as the queenside, and files e through h as the kingside. See Figure 1.\\nGet a Britannica Premium subscription and gain access to exclusive content.\\nSubscribe Now\\nMoves\\nThe board represents a battlefield in which two armies fight to capture each other’s king. A player’s army consists of 16 pieces that begin play on the two ranks closest to that player. There are six different types of pieces: king, rook, bishop, queen, knight, and pawn; the pieces are distinguished by appearance and by how they move. The players alternate moves, White going first.\\nKing\\nWhite’s king begins the game on e1. Black’s king is opposite at e8. Each king can move one square in any direction; e.g., White’s king can move from e1 to d1, d2, e2, f2, or f1.\\nRook\\nEach player has two rooks (formerly also known as castles), which begin the game on the corner squares a1 and h1 for White, a8 and h8 for Black. A rook can move vertically or horizontally to any unobstructed square along the file or rank on which it is placed.\\nBishop\\nEach player has two bishops, and they begin the game at c1 and f1 for White, c8 and f8 for Black. A bishop can move to any unobstructed square on the diagonal on which it is placed. Therefore, each player has one bishop that travels only on light-coloured squares and one bishop that travels only on dark-coloured squares.\\nQueen\\nEach player has one queen, which combines the powers of the rook and bishop and is thus the most mobile and powerful piece. The White queen begins at d1, the Black queen at d8.\\nKnight\\nEach player has two knights, and they begin the game on the squares between their rooks and bishops—i.e., at b1 and g1 for White and b8 and g8 for Black. The knight has the trickiest move, an L-shape of two steps: first one square like a rook, then one square like a bishop, but always in a direction away from the starting square. A knight at e4 could move to f2, g3, g5, f6, d6, c5, c3, or d2. The knight has the unique ability to jump over any other piece to reach its destination. It always moves to a square of a different colour.\\nCapturing\\nThe king, rook, bishop, queen, and knight capture enemy pieces in the same manner that they move. For example, a White queen on d3 can capture a Black rook at h7 by moving to h7 and removing the enemy piece from the board. Pieces can capture only enemy pieces.\\nPawns\\nEach player has eight pawns, which begin the game on the second rank closest to each player; i.e., White’s pawns start at a2, b2, c2, and so on, while Black’s pawns start at a7, b7, c7, and so on. The pawns are unique in several ways. A pawn can move only forward; it can never retreat. It moves differently than it captures. A pawn moves to the square directly ahead of it but captures on the squares diagonally in front of it; e.g., a White pawn at f5 can move to f6 but can capture only on g6 or e6. An unmoved pawn has the option of moving one or two squares forward. This is the reason for another peculiar option, called en passant—that is, in passing—available to a pawn when an enemy pawn on an adjoining file advances two squares on its initial move and could have been captured had it moved only one square. The first pawn can take the advancing pawn en passant, as if it had advanced only one square. An en passant capture must be made then or not at all. Only pawns can be captured en passant. The last unique feature of the pawn occurs if it reaches the end of a file; it must then be promoted to—that is, exchanged for—a queen, rook, bishop, or knight.\\nCastling\\nThe one exception to the rule that a player may move only one piece at a time is a compound move of king and rook called castling. A player castles by shifting the king two squares in the direction of a rook, which is then placed on the square the king has crossed. For example, White can castle kingside by moving the king from e1 to g1 and the rook from h1 to f1. Castling is permitted only once in a game and is prohibited if the king or rook has previously moved or if any of the squares between them is occupied. Also, castling is not legal if the square the king starts on, crosses, or finishes on is attacked by an enemy piece.\\nRelative piece values\\nAssigning the pawn a value of 1, the values of the other pieces are approximately as follows: knight 3, bishop 3, rook 5, and queen 9. The relative values of knights and bishops vary with different pawn structures. Additionally, tactical considerations may temporarily override the pieces’ usual relative values. Material concerns are secondary to winning.\\nObject of the game\\nWhen a player moves a piece to a square on which it attacks the enemy king—that is, a square from which it could capture the king if the king is not shielded or moved—the king is said to be in check. The game is won when one king is in check and cannot avoid capture on the next move; this is called checkmate. A game also can end when a player, believing the situation to be hopeless, acknowledges defeat by resigning.\\nThere are three possible results in chess: win, lose, or draw. There are six ways a draw can come about: (1) by mutual consent, (2) when neither player has enough pieces to deliver checkmate, (3) when one player can check the enemy king endlessly (perpetual check), (4) when a player who is not in check has no legal move (stalemate), (5) when an identical position occurs three times with the same player having the right to move, and (6) when no piece has been captured and no pawn has been moved within a period of 50 moves.\\nIn competitive events, a victory is scored as one point, a draw as half a point, and a loss as no points.'"
      ]
     },
     "execution_count": 7,
     "metadata": {},
     "output_type": "execute_result"
    }
   ],
   "source": [
    "text_1"
   ]
  },
  {
   "cell_type": "code",
   "execution_count": 8,
   "id": "0ff1c940",
   "metadata": {},
   "outputs": [],
   "source": [
    "text_2='''Chess computers were first able to beat strong chess players in the late 1980s. Their most famous success was the victory of Deep Blue over then World Chess Champion Garry Kasparov in 1997, but there was some controversy over whether the match conditions favored the computer.\n",
    "In 2002–2003, three human–computer matches were drawn, but, whereas Deep Blue was a specialized machine, these were chess programs running on commercially available computers.\n",
    "Chess programs running on commercially available desktop computers won decisive victories against human players in matches in 2005 and 2006. The second of these, against then world champion Vladimir Kramnik is (as of 2019) the last major human-computer match.\n",
    "Since that time, chess programs running on commercial hardware—more recently including mobile phones—have been able to defeat even the strongest human players.\n",
    "MANIAC (1956)\n",
    "In 1956 MANIAC, developed at Los Alamos Scientific Laboratory, became the first computer to defeat a human in a chess-like game. Playing with the simplified Los Alamos rules, it defeated a novice in 23 moves.[1]\n",
    "Mac Hack VI (1966–1968)\n",
    "In 1966 MIT student Richard Greenblatt wrote the chess program Mac Hack VI using MIDAS macro assembly language on a Digital Equipment Corporation PDP-6 computer with 16K of memory. Mac Hack VI evaluated 10 positions per second.\n",
    "In 1967, several MIT students and professors (organized by Seymour Papert) challenged Dr. Hubert Dreyfus to play a game of chess against Mac Hack VI. Dreyfus, a professor of philosophy at MIT, wrote the book What Computers Can’t Do, questioning the computer's ability to serve as a model for the human brain. He also asserted that no computer program could defeat even a 10-year-old child at chess. Dreyfus accepted the challenge. Herbert A. Simon, an artificial intelligence pioneer, watched the game. He said, \"it was a wonderful game—a real cliffhanger between two woodpushers with bursts of insights and fiendish plans ... great moments of drama and disaster that go in such games.\" The computer was beating Dreyfus when he found a move which could have captured the enemy queen. The only way the computer could get out of this was to keep Dreyfus in checks with its own queen until it could fork the queen and king, and then exchange them. That is what the computer did. Soon, Dreyfus was losing. Finally, the computer checkmated Dreyfus in the middle of the board.\n",
    "In the spring of 1967, Mac Hack VI played in the Boston Amateur championship, winning two games and drawing two games. Mac Hack VI beat a 1510 United States Chess Federation player. This was the first time a computer won a game in a human tournament. At the end of 1968, Mac Hack VI achieved a rating of 1529. The average rating in the USCF was near 1500.[2]\n",
    "Chess x.x (1968–1978)\n",
    "In 1968, Northwestern University students Larry Atkin, David Slate and Keith Gorlen began work on Chess (Northwestern University). On 14 April 1970 an exhibition game was played against Australian Champion Fred Flatow, the program running on a Control Data Corporation 6600 model. Flatow won easily. On 25 July 1976, Chess 4.5 scored 5–0 in the Class B (1600–1799) section of the 4th Paul Masson chess tournament in Saratoga, California. This was the first time a computer won a human tournament. Chess 4.5 was rated 1722. Chess 4.5 running on a Control Data Corporation CDC Cyber 175 supercomputer (2.1 megaflops) looked at less than 1500 positions per second. On 20 February 1977, Chess 4.5 won the 84th Minnesota Open Championship with 5 wins and 1 loss. It defeated expert Charles Fenner rated 2016. On 30 April 1978, Chess 4.6 scored 5–0 at the Twin Cities Open in Minneapolis. Chess 4.6 was rated 2040.[3] International Master Edward Lasker stated that year, \"My contention that computers cannot play like a master, I retract. They play absolutely alarmingly. I know, because I have lost games to 4.7.\"[4]\n",
    "David Levy's bet (1978)\n",
    "Main article: David Levy (chess player) § Computer chess bet\n",
    "For a long time in the 1970s and 1980s, it remained an open question whether any chess program would ever be able to defeat the expertise of top humans. In 1968, International Master David Levy made a famous bet that no chess computer would be able to beat him within ten years. He won his bet in 1978 by beating Chess 4.7 (the strongest computer at the time).\n",
    "Cray Blitz (1981)\n",
    "In 1981, Cray Blitz scored 5–0 in the Mississippi State Championship. In round 4, it defeated Joe Sentef (2262) to become the first computer to beat a master in tournament play and the first computer to gain a master rating (2258).[5]\n",
    "HiTech (1988)\n",
    "In 1988, HiTech won the Pennsylvania State Chess Championship with a score of 4½–½. HiTech defeated International Master Ed Formanek (2485).[6]\n",
    "The Harvard Cup Man versus Computer Chess Challenge was organized by Harvard University. There were six challenges from 1989 until 1995. They played in Boston and New York City. In each challenge the humans scored higher and the highest scorer was a human'''"
   ]
  },
  {
   "cell_type": "code",
   "execution_count": 9,
   "id": "24490253",
   "metadata": {},
   "outputs": [
    {
     "data": {
      "text/plain": [
       "'Chess computers were first able to beat strong chess players in the late 1980s. Their most famous success was the victory of Deep Blue over then World Chess Champion Garry Kasparov in 1997, but there was some controversy over whether the match conditions favored the computer.\\nIn 2002–2003, three human–computer matches were drawn, but, whereas Deep Blue was a specialized machine, these were chess programs running on commercially available computers.\\nChess programs running on commercially available desktop computers won decisive victories against human players in matches in 2005 and 2006. The second of these, against then world champion Vladimir Kramnik is (as of 2019) the last major human-computer match.\\nSince that time, chess programs running on commercial hardware—more recently including mobile phones—have been able to defeat even the strongest human players.\\nMANIAC (1956)\\nIn 1956 MANIAC, developed at Los Alamos Scientific Laboratory, became the first computer to defeat a human in a chess-like game. Playing with the simplified Los Alamos rules, it defeated a novice in 23 moves.[1]\\nMac Hack VI (1966–1968)\\nIn 1966 MIT student Richard Greenblatt wrote the chess program Mac Hack VI using MIDAS macro assembly language on a Digital Equipment Corporation PDP-6 computer with 16K of memory. Mac Hack VI evaluated 10 positions per second.\\nIn 1967, several MIT students and professors (organized by Seymour Papert) challenged Dr. Hubert Dreyfus to play a game of chess against Mac Hack VI. Dreyfus, a professor of philosophy at MIT, wrote the book What Computers Can’t Do, questioning the computer\\'s ability to serve as a model for the human brain. He also asserted that no computer program could defeat even a 10-year-old child at chess. Dreyfus accepted the challenge. Herbert A. Simon, an artificial intelligence pioneer, watched the game. He said, \"it was a wonderful game—a real cliffhanger between two woodpushers with bursts of insights and fiendish plans ... great moments of drama and disaster that go in such games.\" The computer was beating Dreyfus when he found a move which could have captured the enemy queen. The only way the computer could get out of this was to keep Dreyfus in checks with its own queen until it could fork the queen and king, and then exchange them. That is what the computer did. Soon, Dreyfus was losing. Finally, the computer checkmated Dreyfus in the middle of the board.\\nIn the spring of 1967, Mac Hack VI played in the Boston Amateur championship, winning two games and drawing two games. Mac Hack VI beat a 1510 United States Chess Federation player. This was the first time a computer won a game in a human tournament. At the end of 1968, Mac Hack VI achieved a rating of 1529. The average rating in the USCF was near 1500.[2]\\nChess x.x (1968–1978)\\nIn 1968, Northwestern University students Larry Atkin, David Slate and Keith Gorlen began work on Chess (Northwestern University). On 14 April 1970 an exhibition game was played against Australian Champion Fred Flatow, the program running on a Control Data Corporation 6600 model. Flatow won easily. On 25 July 1976, Chess 4.5 scored 5–0 in the Class B (1600–1799) section of the 4th Paul Masson chess tournament in Saratoga, California. This was the first time a computer won a human tournament. Chess 4.5 was rated 1722. Chess 4.5 running on a Control Data Corporation CDC Cyber 175 supercomputer (2.1 megaflops) looked at less than 1500 positions per second. On 20 February 1977, Chess 4.5 won the 84th Minnesota Open Championship with 5 wins and 1 loss. It defeated expert Charles Fenner rated 2016. On 30 April 1978, Chess 4.6 scored 5–0 at the Twin Cities Open in Minneapolis. Chess 4.6 was rated 2040.[3] International Master Edward Lasker stated that year, \"My contention that computers cannot play like a master, I retract. They play absolutely alarmingly. I know, because I have lost games to 4.7.\"[4]\\nDavid Levy\\'s bet (1978)\\nMain article: David Levy (chess player) § Computer chess bet\\nFor a long time in the 1970s and 1980s, it remained an open question whether any chess program would ever be able to defeat the expertise of top humans. In 1968, International Master David Levy made a famous bet that no chess computer would be able to beat him within ten years. He won his bet in 1978 by beating Chess 4.7 (the strongest computer at the time).\\nCray Blitz (1981)\\nIn 1981, Cray Blitz scored 5–0 in the Mississippi State Championship. In round 4, it defeated Joe Sentef (2262) to become the first computer to beat a master in tournament play and the first computer to gain a master rating (2258).[5]\\nHiTech (1988)\\nIn 1988, HiTech won the Pennsylvania State Chess Championship with a score of 4½–½. HiTech defeated International Master Ed Formanek (2485).[6]\\nThe Harvard Cup Man versus Computer Chess Challenge was organized by Harvard University. There were six challenges from 1989 until 1995. They played in Boston and New York City. In each challenge the humans scored higher and the highest scorer was a human'"
      ]
     },
     "execution_count": 9,
     "metadata": {},
     "output_type": "execute_result"
    }
   ],
   "source": [
    "text_2"
   ]
  },
  {
   "cell_type": "code",
   "execution_count": 10,
   "id": "b52c36e8",
   "metadata": {},
   "outputs": [],
   "source": [
    "text_3='''\"It's like a game of chess,\" we used to say in days gone by.\n",
    "Every move our politicians made could be analysed and interpreted, not only for its significance in the wider electoral tournament but also for the possible moves, or false moves, it might induce from opponents.\n",
    "That all seems rather quaint now, viewed from our present standpoint where the table on which the chess board so precariously sits is being shaken by a constant bombardment of violent impacts: the very survival of the UK, the war on Islamic State and our future in or out of the EU.\n",
    "No wonder the chess pieces are wobbling already and could soon be simply tossed up in the air to land who knows where.\n",
    "And now, of course, there is a new player in the game. UKIP thinks the contest has for too long been the preserve of the same exclusive club of elite players.\n",
    "\"This is an unpredictable election,\" Ed Miliband told me in what could well go down as the understatement of last week in Manchester.\n",
    "There really are so many imponderables piled one on top of another that assessing the likely outcomes next May looks less and less like a chess game and more and more like a mug's game.\n",
    "For a start, this era of coalition government means that with the two biggest parties short of a Commons majority, they both have rival sets of target seats on the go at the same time. So they are both in the position of having to fight defensive and offensive campaigns simultaneously.\n",
    "Our list of marginal seats here in the West Midlands shows that behind their ultra-close knife-edge marginals, Labour have some other narrow majorities to worry about before they start taking the Conservatives' chessmen off the board.\n",
    "These numbers underline the extend to which the Midlands has traditionally been a predominantly two-party contest.\n",
    "Liberal Democrat Lorely Burt stunned the Conservatives when she \"crept in under the radar\" in 2005 but now she has her work cut out to defend a majority of just 175 over the Conservatives.\n",
    "How will the emergence of the Green Party, now the official opposition on Solihull Council, affect the chances of the larger parties?\n",
    "Lorely Burt's party colleague John Hemming has turned Birmingham Yardley into something of a personal fiefdom, but Labour will be fighting hard to overturn his 3,002 majority and regain the seat he captured from former Education Secretary Estelle Morris in 2005.\n",
    "The Liberal Democrats' only other Midlands seat is in Cheltenham where Martin Horwood will defend a more comfortable majority of 4,920 over the Conservatives in what is still the home of the Midlands' only Liberal Democrat-controlled council.\n",
    "With confident predictions that the Liberal Democrats will lose many seats, perhaps it is to their traditional \"core\" constituencies that they may have to turn as they fight to limit the damage.\n",
    "And into this otherwise two-way political street comes the new kid on the blog, UKIP, arguably the biggest imponderable of all.\n",
    "If, as Nigel Farage says, they are not a repository simply for disillusioned Tory votes but a genuine mass party with broad appeal with their \"tanks on Labour's lawn\", how might they upset the two-party chess board?\n",
    "Take Dudley North, for example, where Labour's wafer-thin majority over the Conservatives faces the additional challenge of the UKIP candidate Bill Etheridge MEP, who has turned his borough into a local power base.\n",
    "'Politically toxic'\n",
    "On the other hand, how will the Conservatives' tiny majority over Labour in Warwickshire North fare against not just an experienced Labour candidate, former minister Mike O'Brien, but also UKIP who have made great play of opposition to high-speed rail in an area where HS2 has become, to mix my analogies, politically toxic?\n",
    "Or could the Midlands UKIP vote shrink, as it did in 2010 to just 4% after a performance in the previous summer's European elections which was impressive but not as emphatic as their clear victory in this year's EU poll?\n",
    "The evidence of the local elections on the same day was that if you simply weigh the votes, it is the Conservatives who lose the most. But if you apply those numbers to real council areas (and Parliamentary constituencies?} you see it was Labour who suffered last May, failing to win majorities in target councils like Tamworth, Walsall and Worcester.\n",
    "But in the remaining eight months before polling, perhaps the greatest imponderable of all is what politicians call \"events\" in a region which has always been particularly prone to the ups and downs of the economy.\n",
    "The Birmingham and Solihull Chamber of Commerce has just reported a continuing surge in business confidence.\n",
    "\"Try telling that to young people in my constituency\" says Ian Austin, the Labour MP for that key seat of Dudley North, where unemployment remains well above the national average and where wages continue to lag behind prices.\n",
    "Put all these chess pieces together and you can see why even those politics watchers with the longest memories say they have never known an election as difficult to predict as this.\n",
    "It helps to explain why the mood clearly detectable in Labour's ranks last week in Manchester was more uncertain than hopeful; why the Conservatives, behind Labour in the polls for so long, nevertheless closed their conference in Birmingham with more than a sneaking feeling that they could confound the sooth-sayers; and why I have it on good authority that senior Liberal Democrats are preparing to embark on their conference in Glasgow in a mood of innermost trepidation.\n",
    "As the end game draws near, a game of chess has never looked more like a game of chance.....'''"
   ]
  },
  {
   "cell_type": "code",
   "execution_count": 11,
   "id": "44bdf4bc",
   "metadata": {},
   "outputs": [
    {
     "data": {
      "text/plain": [
       "'\"It\\'s like a game of chess,\" we used to say in days gone by.\\nEvery move our politicians made could be analysed and interpreted, not only for its significance in the wider electoral tournament but also for the possible moves, or false moves, it might induce from opponents.\\nThat all seems rather quaint now, viewed from our present standpoint where the table on which the chess board so precariously sits is being shaken by a constant bombardment of violent impacts: the very survival of the UK, the war on Islamic State and our future in or out of the EU.\\nNo wonder the chess pieces are wobbling already and could soon be simply tossed up in the air to land who knows where.\\nAnd now, of course, there is a new player in the game. UKIP thinks the contest has for too long been the preserve of the same exclusive club of elite players.\\n\"This is an unpredictable election,\" Ed Miliband told me in what could well go down as the understatement of last week in Manchester.\\nThere really are so many imponderables piled one on top of another that assessing the likely outcomes next May looks less and less like a chess game and more and more like a mug\\'s game.\\nFor a start, this era of coalition government means that with the two biggest parties short of a Commons majority, they both have rival sets of target seats on the go at the same time. So they are both in the position of having to fight defensive and offensive campaigns simultaneously.\\nOur list of marginal seats here in the West Midlands shows that behind their ultra-close knife-edge marginals, Labour have some other narrow majorities to worry about before they start taking the Conservatives\\' chessmen off the board.\\nThese numbers underline the extend to which the Midlands has traditionally been a predominantly two-party contest.\\nLiberal Democrat Lorely Burt stunned the Conservatives when she \"crept in under the radar\" in 2005 but now she has her work cut out to defend a majority of just 175 over the Conservatives.\\nHow will the emergence of the Green Party, now the official opposition on Solihull Council, affect the chances of the larger parties?\\nLorely Burt\\'s party colleague John Hemming has turned Birmingham Yardley into something of a personal fiefdom, but Labour will be fighting hard to overturn his 3,002 majority and regain the seat he captured from former Education Secretary Estelle Morris in 2005.\\nThe Liberal Democrats\\' only other Midlands seat is in Cheltenham where Martin Horwood will defend a more comfortable majority of 4,920 over the Conservatives in what is still the home of the Midlands\\' only Liberal Democrat-controlled council.\\nWith confident predictions that the Liberal Democrats will lose many seats, perhaps it is to their traditional \"core\" constituencies that they may have to turn as they fight to limit the damage.\\nAnd into this otherwise two-way political street comes the new kid on the blog, UKIP, arguably the biggest imponderable of all.\\nIf, as Nigel Farage says, they are not a repository simply for disillusioned Tory votes but a genuine mass party with broad appeal with their \"tanks on Labour\\'s lawn\", how might they upset the two-party chess board?\\nTake Dudley North, for example, where Labour\\'s wafer-thin majority over the Conservatives faces the additional challenge of the UKIP candidate Bill Etheridge MEP, who has turned his borough into a local power base.\\n\\'Politically toxic\\'\\nOn the other hand, how will the Conservatives\\' tiny majority over Labour in Warwickshire North fare against not just an experienced Labour candidate, former minister Mike O\\'Brien, but also UKIP who have made great play of opposition to high-speed rail in an area where HS2 has become, to mix my analogies, politically toxic?\\nOr could the Midlands UKIP vote shrink, as it did in 2010 to just 4% after a performance in the previous summer\\'s European elections which was impressive but not as emphatic as their clear victory in this year\\'s EU poll?\\nThe evidence of the local elections on the same day was that if you simply weigh the votes, it is the Conservatives who lose the most. But if you apply those numbers to real council areas (and Parliamentary constituencies?} you see it was Labour who suffered last May, failing to win majorities in target councils like Tamworth, Walsall and Worcester.\\nBut in the remaining eight months before polling, perhaps the greatest imponderable of all is what politicians call \"events\" in a region which has always been particularly prone to the ups and downs of the economy.\\nThe Birmingham and Solihull Chamber of Commerce has just reported a continuing surge in business confidence.\\n\"Try telling that to young people in my constituency\" says Ian Austin, the Labour MP for that key seat of Dudley North, where unemployment remains well above the national average and where wages continue to lag behind prices.\\nPut all these chess pieces together and you can see why even those politics watchers with the longest memories say they have never known an election as difficult to predict as this.\\nIt helps to explain why the mood clearly detectable in Labour\\'s ranks last week in Manchester was more uncertain than hopeful; why the Conservatives, behind Labour in the polls for so long, nevertheless closed their conference in Birmingham with more than a sneaking feeling that they could confound the sooth-sayers; and why I have it on good authority that senior Liberal Democrats are preparing to embark on their conference in Glasgow in a mood of innermost trepidation.\\nAs the end game draws near, a game of chess has never looked more like a game of chance.....'"
      ]
     },
     "execution_count": 11,
     "metadata": {},
     "output_type": "execute_result"
    }
   ],
   "source": [
    "text_3"
   ]
  },
  {
   "cell_type": "code",
   "execution_count": 12,
   "id": "d69a597d",
   "metadata": {},
   "outputs": [],
   "source": [
    "# Create a list of texts\n",
    "\n",
    "texts=[text_1,text_2,text_3]"
   ]
  },
  {
   "cell_type": "code",
   "execution_count": 13,
   "id": "0fe1e841",
   "metadata": {},
   "outputs": [
    {
     "name": "stdout",
     "output_type": "stream",
     "text": [
      "['chess, one of the oldest and most popular board games, played by two opponents on a checkered board with specially designed pieces of contrasting colours, commonly white and black. White moves first, after which the players alternate turns in accordance with fixed rules, each player attempting to force the opponent’s principal piece, the King, into checkmate—a position where it is unable to avoid capture.\\nChess first appeared in India about the 6th century AD and by the 10th century had spread from Asia to the Middle East and Europe. Since at least the 15th century, chess has been known as the “royal game” because of its popularity among the nobility. Rules and set design slowly evolved until both reached today’s standard in the early 19th century. Once an intellectual diversion favoured by the upper classes, chess went through an explosive growth in interest during the 20th century as professional and state-sponsored players competed for an officially recognized world championship title and increasingly lucrative tournament prizes. Organized chess tournaments, postal correspondence games, and Internet chess now attract men, women, and children around the world.\\nThis article provides an in-depth review of the history and the theory of the game by noted author and international grandmaster Andrew Soltis.\\nCharacteristics of the game\\nChess is played on a board of 64 squares arranged in eight vertical rows called files and eight horizontal rows called ranks. These squares alternate between two colours: one light, such as white, beige, or yellow; and the other dark, such as black or green. The board is set between the two opponents so that each player has a light-coloured square at the right-hand corner.\\nAlgebraic notation\\nIndividual moves and entire games can be recorded using one of several forms of notation. By far the most widely used form, algebraic (or coordinate) notation, identifies each square from the point of view of the player with the light-coloured pieces, called White. The eight ranks are numbered 1 through 8 beginning with the rank closest to White. The files are labeled a through h beginning with the file at White’s left hand. Each square has a name consisting of its letter and number, such as b3 or g8. Additionally, files a through d are referred to as the queenside, and files e through h as the kingside. See Figure 1.\\nGet a Britannica Premium subscription and gain access to exclusive content.\\nSubscribe Now\\nMoves\\nThe board represents a battlefield in which two armies fight to capture each other’s king. A player’s army consists of 16 pieces that begin play on the two ranks closest to that player. There are six different types of pieces: king, rook, bishop, queen, knight, and pawn; the pieces are distinguished by appearance and by how they move. The players alternate moves, White going first.\\nKing\\nWhite’s king begins the game on e1. Black’s king is opposite at e8. Each king can move one square in any direction; e.g., White’s king can move from e1 to d1, d2, e2, f2, or f1.\\nRook\\nEach player has two rooks (formerly also known as castles), which begin the game on the corner squares a1 and h1 for White, a8 and h8 for Black. A rook can move vertically or horizontally to any unobstructed square along the file or rank on which it is placed.\\nBishop\\nEach player has two bishops, and they begin the game at c1 and f1 for White, c8 and f8 for Black. A bishop can move to any unobstructed square on the diagonal on which it is placed. Therefore, each player has one bishop that travels only on light-coloured squares and one bishop that travels only on dark-coloured squares.\\nQueen\\nEach player has one queen, which combines the powers of the rook and bishop and is thus the most mobile and powerful piece. The White queen begins at d1, the Black queen at d8.\\nKnight\\nEach player has two knights, and they begin the game on the squares between their rooks and bishops—i.e., at b1 and g1 for White and b8 and g8 for Black. The knight has the trickiest move, an L-shape of two steps: first one square like a rook, then one square like a bishop, but always in a direction away from the starting square. A knight at e4 could move to f2, g3, g5, f6, d6, c5, c3, or d2. The knight has the unique ability to jump over any other piece to reach its destination. It always moves to a square of a different colour.\\nCapturing\\nThe king, rook, bishop, queen, and knight capture enemy pieces in the same manner that they move. For example, a White queen on d3 can capture a Black rook at h7 by moving to h7 and removing the enemy piece from the board. Pieces can capture only enemy pieces.\\nPawns\\nEach player has eight pawns, which begin the game on the second rank closest to each player; i.e., White’s pawns start at a2, b2, c2, and so on, while Black’s pawns start at a7, b7, c7, and so on. The pawns are unique in several ways. A pawn can move only forward; it can never retreat. It moves differently than it captures. A pawn moves to the square directly ahead of it but captures on the squares diagonally in front of it; e.g., a White pawn at f5 can move to f6 but can capture only on g6 or e6. An unmoved pawn has the option of moving one or two squares forward. This is the reason for another peculiar option, called en passant—that is, in passing—available to a pawn when an enemy pawn on an adjoining file advances two squares on its initial move and could have been captured had it moved only one square. The first pawn can take the advancing pawn en passant, as if it had advanced only one square. An en passant capture must be made then or not at all. Only pawns can be captured en passant. The last unique feature of the pawn occurs if it reaches the end of a file; it must then be promoted to—that is, exchanged for—a queen, rook, bishop, or knight.\\nCastling\\nThe one exception to the rule that a player may move only one piece at a time is a compound move of king and rook called castling. A player castles by shifting the king two squares in the direction of a rook, which is then placed on the square the king has crossed. For example, White can castle kingside by moving the king from e1 to g1 and the rook from h1 to f1. Castling is permitted only once in a game and is prohibited if the king or rook has previously moved or if any of the squares between them is occupied. Also, castling is not legal if the square the king starts on, crosses, or finishes on is attacked by an enemy piece.\\nRelative piece values\\nAssigning the pawn a value of 1, the values of the other pieces are approximately as follows: knight 3, bishop 3, rook 5, and queen 9. The relative values of knights and bishops vary with different pawn structures. Additionally, tactical considerations may temporarily override the pieces’ usual relative values. Material concerns are secondary to winning.\\nObject of the game\\nWhen a player moves a piece to a square on which it attacks the enemy king—that is, a square from which it could capture the king if the king is not shielded or moved—the king is said to be in check. The game is won when one king is in check and cannot avoid capture on the next move; this is called checkmate. A game also can end when a player, believing the situation to be hopeless, acknowledges defeat by resigning.\\nThere are three possible results in chess: win, lose, or draw. There are six ways a draw can come about: (1) by mutual consent, (2) when neither player has enough pieces to deliver checkmate, (3) when one player can check the enemy king endlessly (perpetual check), (4) when a player who is not in check has no legal move (stalemate), (5) when an identical position occurs three times with the same player having the right to move, and (6) when no piece has been captured and no pawn has been moved within a period of 50 moves.\\nIn competitive events, a victory is scored as one point, a draw as half a point, and a loss as no points.', 'Chess computers were first able to beat strong chess players in the late 1980s. Their most famous success was the victory of Deep Blue over then World Chess Champion Garry Kasparov in 1997, but there was some controversy over whether the match conditions favored the computer.\\nIn 2002–2003, three human–computer matches were drawn, but, whereas Deep Blue was a specialized machine, these were chess programs running on commercially available computers.\\nChess programs running on commercially available desktop computers won decisive victories against human players in matches in 2005 and 2006. The second of these, against then world champion Vladimir Kramnik is (as of 2019) the last major human-computer match.\\nSince that time, chess programs running on commercial hardware—more recently including mobile phones—have been able to defeat even the strongest human players.\\nMANIAC (1956)\\nIn 1956 MANIAC, developed at Los Alamos Scientific Laboratory, became the first computer to defeat a human in a chess-like game. Playing with the simplified Los Alamos rules, it defeated a novice in 23 moves.[1]\\nMac Hack VI (1966–1968)\\nIn 1966 MIT student Richard Greenblatt wrote the chess program Mac Hack VI using MIDAS macro assembly language on a Digital Equipment Corporation PDP-6 computer with 16K of memory. Mac Hack VI evaluated 10 positions per second.\\nIn 1967, several MIT students and professors (organized by Seymour Papert) challenged Dr. Hubert Dreyfus to play a game of chess against Mac Hack VI. Dreyfus, a professor of philosophy at MIT, wrote the book What Computers Can’t Do, questioning the computer\\'s ability to serve as a model for the human brain. He also asserted that no computer program could defeat even a 10-year-old child at chess. Dreyfus accepted the challenge. Herbert A. Simon, an artificial intelligence pioneer, watched the game. He said, \"it was a wonderful game—a real cliffhanger between two woodpushers with bursts of insights and fiendish plans ... great moments of drama and disaster that go in such games.\" The computer was beating Dreyfus when he found a move which could have captured the enemy queen. The only way the computer could get out of this was to keep Dreyfus in checks with its own queen until it could fork the queen and king, and then exchange them. That is what the computer did. Soon, Dreyfus was losing. Finally, the computer checkmated Dreyfus in the middle of the board.\\nIn the spring of 1967, Mac Hack VI played in the Boston Amateur championship, winning two games and drawing two games. Mac Hack VI beat a 1510 United States Chess Federation player. This was the first time a computer won a game in a human tournament. At the end of 1968, Mac Hack VI achieved a rating of 1529. The average rating in the USCF was near 1500.[2]\\nChess x.x (1968–1978)\\nIn 1968, Northwestern University students Larry Atkin, David Slate and Keith Gorlen began work on Chess (Northwestern University). On 14 April 1970 an exhibition game was played against Australian Champion Fred Flatow, the program running on a Control Data Corporation 6600 model. Flatow won easily. On 25 July 1976, Chess 4.5 scored 5–0 in the Class B (1600–1799) section of the 4th Paul Masson chess tournament in Saratoga, California. This was the first time a computer won a human tournament. Chess 4.5 was rated 1722. Chess 4.5 running on a Control Data Corporation CDC Cyber 175 supercomputer (2.1 megaflops) looked at less than 1500 positions per second. On 20 February 1977, Chess 4.5 won the 84th Minnesota Open Championship with 5 wins and 1 loss. It defeated expert Charles Fenner rated 2016. On 30 April 1978, Chess 4.6 scored 5–0 at the Twin Cities Open in Minneapolis. Chess 4.6 was rated 2040.[3] International Master Edward Lasker stated that year, \"My contention that computers cannot play like a master, I retract. They play absolutely alarmingly. I know, because I have lost games to 4.7.\"[4]\\nDavid Levy\\'s bet (1978)\\nMain article: David Levy (chess player) § Computer chess bet\\nFor a long time in the 1970s and 1980s, it remained an open question whether any chess program would ever be able to defeat the expertise of top humans. In 1968, International Master David Levy made a famous bet that no chess computer would be able to beat him within ten years. He won his bet in 1978 by beating Chess 4.7 (the strongest computer at the time).\\nCray Blitz (1981)\\nIn 1981, Cray Blitz scored 5–0 in the Mississippi State Championship. In round 4, it defeated Joe Sentef (2262) to become the first computer to beat a master in tournament play and the first computer to gain a master rating (2258).[5]\\nHiTech (1988)\\nIn 1988, HiTech won the Pennsylvania State Chess Championship with a score of 4½–½. HiTech defeated International Master Ed Formanek (2485).[6]\\nThe Harvard Cup Man versus Computer Chess Challenge was organized by Harvard University. There were six challenges from 1989 until 1995. They played in Boston and New York City. In each challenge the humans scored higher and the highest scorer was a human', '\"It\\'s like a game of chess,\" we used to say in days gone by.\\nEvery move our politicians made could be analysed and interpreted, not only for its significance in the wider electoral tournament but also for the possible moves, or false moves, it might induce from opponents.\\nThat all seems rather quaint now, viewed from our present standpoint where the table on which the chess board so precariously sits is being shaken by a constant bombardment of violent impacts: the very survival of the UK, the war on Islamic State and our future in or out of the EU.\\nNo wonder the chess pieces are wobbling already and could soon be simply tossed up in the air to land who knows where.\\nAnd now, of course, there is a new player in the game. UKIP thinks the contest has for too long been the preserve of the same exclusive club of elite players.\\n\"This is an unpredictable election,\" Ed Miliband told me in what could well go down as the understatement of last week in Manchester.\\nThere really are so many imponderables piled one on top of another that assessing the likely outcomes next May looks less and less like a chess game and more and more like a mug\\'s game.\\nFor a start, this era of coalition government means that with the two biggest parties short of a Commons majority, they both have rival sets of target seats on the go at the same time. So they are both in the position of having to fight defensive and offensive campaigns simultaneously.\\nOur list of marginal seats here in the West Midlands shows that behind their ultra-close knife-edge marginals, Labour have some other narrow majorities to worry about before they start taking the Conservatives\\' chessmen off the board.\\nThese numbers underline the extend to which the Midlands has traditionally been a predominantly two-party contest.\\nLiberal Democrat Lorely Burt stunned the Conservatives when she \"crept in under the radar\" in 2005 but now she has her work cut out to defend a majority of just 175 over the Conservatives.\\nHow will the emergence of the Green Party, now the official opposition on Solihull Council, affect the chances of the larger parties?\\nLorely Burt\\'s party colleague John Hemming has turned Birmingham Yardley into something of a personal fiefdom, but Labour will be fighting hard to overturn his 3,002 majority and regain the seat he captured from former Education Secretary Estelle Morris in 2005.\\nThe Liberal Democrats\\' only other Midlands seat is in Cheltenham where Martin Horwood will defend a more comfortable majority of 4,920 over the Conservatives in what is still the home of the Midlands\\' only Liberal Democrat-controlled council.\\nWith confident predictions that the Liberal Democrats will lose many seats, perhaps it is to their traditional \"core\" constituencies that they may have to turn as they fight to limit the damage.\\nAnd into this otherwise two-way political street comes the new kid on the blog, UKIP, arguably the biggest imponderable of all.\\nIf, as Nigel Farage says, they are not a repository simply for disillusioned Tory votes but a genuine mass party with broad appeal with their \"tanks on Labour\\'s lawn\", how might they upset the two-party chess board?\\nTake Dudley North, for example, where Labour\\'s wafer-thin majority over the Conservatives faces the additional challenge of the UKIP candidate Bill Etheridge MEP, who has turned his borough into a local power base.\\n\\'Politically toxic\\'\\nOn the other hand, how will the Conservatives\\' tiny majority over Labour in Warwickshire North fare against not just an experienced Labour candidate, former minister Mike O\\'Brien, but also UKIP who have made great play of opposition to high-speed rail in an area where HS2 has become, to mix my analogies, politically toxic?\\nOr could the Midlands UKIP vote shrink, as it did in 2010 to just 4% after a performance in the previous summer\\'s European elections which was impressive but not as emphatic as their clear victory in this year\\'s EU poll?\\nThe evidence of the local elections on the same day was that if you simply weigh the votes, it is the Conservatives who lose the most. But if you apply those numbers to real council areas (and Parliamentary constituencies?} you see it was Labour who suffered last May, failing to win majorities in target councils like Tamworth, Walsall and Worcester.\\nBut in the remaining eight months before polling, perhaps the greatest imponderable of all is what politicians call \"events\" in a region which has always been particularly prone to the ups and downs of the economy.\\nThe Birmingham and Solihull Chamber of Commerce has just reported a continuing surge in business confidence.\\n\"Try telling that to young people in my constituency\" says Ian Austin, the Labour MP for that key seat of Dudley North, where unemployment remains well above the national average and where wages continue to lag behind prices.\\nPut all these chess pieces together and you can see why even those politics watchers with the longest memories say they have never known an election as difficult to predict as this.\\nIt helps to explain why the mood clearly detectable in Labour\\'s ranks last week in Manchester was more uncertain than hopeful; why the Conservatives, behind Labour in the polls for so long, nevertheless closed their conference in Birmingham with more than a sneaking feeling that they could confound the sooth-sayers; and why I have it on good authority that senior Liberal Democrats are preparing to embark on their conference in Glasgow in a mood of innermost trepidation.\\nAs the end game draws near, a game of chess has never looked more like a game of chance.....']\n"
     ]
    }
   ],
   "source": [
    "print(texts)"
   ]
  },
  {
   "cell_type": "markdown",
   "id": "4589ddb5",
   "metadata": {},
   "source": [
    "## Creating a word list"
   ]
  },
  {
   "cell_type": "code",
   "execution_count": 14,
   "id": "310f17d2",
   "metadata": {},
   "outputs": [],
   "source": [
    "words_list=[]\n",
    "for text in texts:\n",
    "    doc=nlp(text)\n",
    "    text_words=[]\n",
    "    for token in doc:\n",
    "        if token.is_stop==False and token.is_punct==False and token.like_num==False and token.text!='\\n':\n",
    "            text_words.append(token.lemma_)\n",
    "    words_list.append(text_words)"
   ]
  },
  {
   "cell_type": "code",
   "execution_count": 15,
   "id": "e6de1482",
   "metadata": {},
   "outputs": [
    {
     "name": "stdout",
     "output_type": "stream",
     "text": [
      "[['chess', 'old', 'popular', 'board', 'game', 'play', 'opponent', 'checkered', 'board', 'specially', 'design', 'piece', 'contrast', 'colour', 'commonly', 'white', 'black', 'white', 'move', 'player', 'alternate', 'turn', 'accordance', 'fix', 'rule', 'player', 'attempt', 'force', 'opponent', 'principal', 'piece', 'King', 'checkmate', 'position', 'unable', 'avoid', 'capture', 'Chess', 'appear', 'India', 'century', 'ad', 'century', 'spread', 'Asia', 'Middle', 'East', 'Europe', 'century', 'chess', 'know', 'royal', 'game', 'popularity', 'nobility', 'rule', 'set', 'design', 'slowly', 'evolve', 'reach', 'today', 'standard', 'early', 'century', 'intellectual', 'diversion', 'favour', 'upper', 'class', 'chess', 'go', 'explosive', 'growth', 'interest', 'century', 'professional', 'state', 'sponsor', 'player', 'compete', 'officially', 'recognize', 'world', 'championship', 'title', 'increasingly', 'lucrative', 'tournament', 'prize', 'organize', 'chess', 'tournament', 'postal', 'correspondence', 'game', 'internet', 'chess', 'attract', 'man', 'woman', 'child', 'world', 'article', 'provide', 'depth', 'review', 'history', 'theory', 'game', 'noted', 'author', 'international', 'grandmaster', 'Andrew', 'Soltis', 'Characteristics', 'game', 'Chess', 'play', 'board', 'square', 'arrange', 'vertical', 'row', 'call', 'file', 'horizontal', 'row', 'call', 'rank', 'square', 'alternate', 'colour', 'light', 'white', 'beige', 'yellow', 'dark', 'black', 'green', 'board', 'set', 'opponent', 'player', 'light', 'colour', 'square', 'right', 'hand', 'corner', 'Algebraic', 'notation', 'individual', 'move', 'entire', 'game', 'record', 'form', 'notation', 'far', 'widely', 'form', 'algebraic', 'coordinate', 'notation', 'identify', 'square', 'point', 'view', 'player', 'light', 'colour', 'piece', 'call', 'White', 'rank', 'number', 'begin', 'rank', 'close', 'White', 'file', 'label', 'h', 'begin', 'file', 'White', 'leave', 'hand', 'square', 'consist', 'letter', 'number', 'b3', 'g8', 'additionally', 'file', 'd', 'refer', 'queenside', 'file', 'e', 'h', 'kingside', 'Figure', 'Britannica', 'Premium', 'subscription', 'gain', 'access', 'exclusive', 'content', 'Subscribe', 'move', 'board', 'represent', 'battlefield', 'army', 'fight', 'capture', 'king', 'player', 'army', 'consist', 'piece', 'begin', 'play', 'rank', 'close', 'player', 'different', 'type', 'piece', 'king', 'rook', 'bishop', 'queen', 'knight', 'pawn', 'piece', 'distinguish', 'appearance', 'player', 'alternate', 'move', 'White', 'go', 'King', 'White', 'king', 'begin', 'game', 'e1', 'black', 'king', 'opposite', 'e8', 'king', 'square', 'direction', 'e.g.', 'White', 'king', 'e1', 'd1', 'd2', 'e2', 'f2', 'f1', 'Rook', 'player', 'rook', 'know', 'castle', 'begin', 'game', 'corner', 'square', 'a1', 'h1', 'White', 'a8', 'h8', 'Black', 'rook', 'vertically', 'horizontally', 'unobstructed', 'square', 'file', 'rank', 'place', 'Bishop', 'player', 'bishop', 'begin', 'game', 'c1', 'f1', 'White', 'c8', 'f8', 'Black', 'bishop', 'unobstructed', 'square', 'diagonal', 'place', 'player', 'bishop', 'travel', 'light', 'colour', 'square', 'bishop', 'travel', 'dark', 'colour', 'square', 'queen', 'player', 'queen', 'combine', 'power', 'rook', 'bishop', 'mobile', 'powerful', 'piece', 'white', 'queen', 'begin', 'd1', 'black', 'queen', 'd8', 'Knight', 'player', 'knight', 'begin', 'game', 'square', 'rook', 'bishop', 'i.e.', 'b1', 'g1', 'White', 'b8', 'g8', 'Black', 'knight', 'tricky', 'l', 'shape', 'step', 'square', 'like', 'rook', 'square', 'like', 'bishop', 'direction', 'away', 'start', 'square', 'knight', 'e4', 'f2', 'g3', 'g5', 'f6', 'd6', 'c5', 'c3', 'd2', 'knight', 'unique', 'ability', 'jump', 'piece', 'reach', 'destination', 'move', 'square', 'different', 'colour', 'capturing', 'king', 'rook', 'bishop', 'queen', 'knight', 'capture', 'enemy', 'piece', 'manner', 'example', 'white', 'queen', 'd3', 'capture', 'black', 'rook', 'h7', 'move', 'h7', 'remove', 'enemy', 'piece', 'board', 'piece', 'capture', 'enemy', 'piece', 'Pawns', 'player', 'pawn', 'begin', 'game', 'rank', 'close', 'player', 'i.e.', 'White', 'pawn', 'start', 'a2', 'b2', 'c2', 'Black', 'pawn', 'start', 'a7', 'b7', 'c7', 'pawn', 'unique', 'way', 'pawn', 'forward', 'retreat', 'move', 'differently', 'capture', 'pawn', 'move', 'square', 'directly', 'ahead', 'capture', 'square', 'diagonally', 'e.g.', 'white', 'pawn', 'f5', 'f6', 'capture', 'g6', 'e6', 'unmoved', 'pawn', 'option', 'move', 'square', 'forward', 'reason', 'peculiar', 'option', 'call', 'en', 'passant', 'pass', 'available', 'pawn', 'enemy', 'pawn', 'adjoining', 'file', 'advance', 'square', 'initial', 'capture', 'move', 'square', 'pawn', 'advance', 'pawn', 'en', 'passant', 'advance', 'square', 'en', 'passant', 'capture', 'pawn', 'capture', 'en', 'passant', 'unique', 'feature', 'pawn', 'occur', 'reach', 'end', 'file', 'promote', 'exchange', 'queen', 'rook', 'bishop', 'knight', 'castle', 'exception', 'rule', 'player', 'piece', 'time', 'compound', 'king', 'rook', 'call', 'castle', 'player', 'castle', 'shift', 'king', 'square', 'direction', 'rook', 'place', 'square', 'king', 'cross', 'example', 'White', 'castle', 'kingside', 'move', 'king', 'e1', 'g1', 'rook', 'h1', 'f1', 'castling', 'permit', 'game', 'prohibit', 'king', 'rook', 'previously', 'move', 'square', 'occupy', 'castle', 'legal', 'square', 'king', 'start', 'crosse', 'finish', 'attack', 'enemy', 'piece', 'relative', 'piece', 'value', 'assign', 'pawn', 'value', 'value', 'piece', 'approximately', 'follow', 'knight', 'bishop', 'rook', 'queen', 'relative', 'value', 'knight', 'bishop', 'vary', 'different', 'pawn', 'structure', 'additionally', 'tactical', 'consideration', 'temporarily', 'override', 'piece', 'usual', 'relative', 'value', 'material', 'concern', 'secondary', 'win', 'Object', 'game', 'player', 'move', 'piece', 'square', 'attack', 'enemy', 'king', 'square', 'capture', 'king', 'king', 'shield', 'move', 'king', 'say', 'check', 'game', 'win', 'king', 'check', 'avoid', 'capture', 'call', 'checkmate', 'game', 'end', 'player', 'believe', 'situation', 'hopeless', 'acknowledge', 'defeat', 'resign', 'possible', 'result', 'chess', 'win', 'lose', 'draw', 'way', 'draw', 'come', 'mutual', 'consent', 'player', 'piece', 'deliver', 'checkmate', 'player', 'check', 'enemy', 'king', 'endlessly', 'perpetual', 'check', 'player', 'check', 'legal', 'stalemate', 'identical', 'position', 'occur', 'time', 'player', 'have', 'right', 'piece', 'capture', 'pawn', 'move', 'period', 'move', 'competitive', 'event', 'victory', 'score', 'point', 'draw', 'half', 'point', 'loss', 'point'], ['chess', 'computer', 'able', 'beat', 'strong', 'chess', 'player', 'late', '1980s', 'famous', 'success', 'victory', 'Deep', 'Blue', 'World', 'Chess', 'Champion', 'Garry', 'Kasparov', 'controversy', 'match', 'condition', 'favor', 'computer', '2002–2003', 'human', 'computer', 'match', 'draw', 'Deep', 'Blue', 'specialized', 'machine', 'chess', 'program', 'run', 'commercially', 'available', 'computer', 'Chess', 'program', 'run', 'commercially', 'available', 'desktop', 'computer', 'win', 'decisive', 'victory', 'human', 'player', 'match', 'world', 'champion', 'Vladimir', 'Kramnik', 'major', 'human', 'computer', 'match', 'time', 'chess', 'program', 'run', 'commercial', 'hardware', 'recently', 'include', 'mobile', 'phone', 'able', 'defeat', 'strong', 'human', 'player', 'MANIAC', 'MANIAC', 'develop', 'Los', 'Alamos', 'Scientific', 'Laboratory', 'computer', 'defeat', 'human', 'chess', 'like', 'game', 'play', 'simplified', 'Los', 'Alamos', 'rule', 'defeat', 'novice', 'moves.[1', 'Mac', 'Hack', 'VI', '1966–1968', 'MIT', 'student', 'Richard', 'Greenblatt', 'write', 'chess', 'program', 'Mac', 'Hack', 'VI', 'MIDAS', 'macro', 'assembly', 'language', 'Digital', 'Equipment', 'Corporation', 'PDP-6', 'computer', 'k', 'memory', 'Mac', 'Hack', 'VI', 'evaluate', 'position', 'MIT', 'student', 'professor', 'organize', 'Seymour', 'Papert', 'challenge', 'Dr.', 'Hubert', 'Dreyfus', 'play', 'game', 'chess', 'Mac', 'Hack', 'VI', 'Dreyfus', 'professor', 'philosophy', 'MIT', 'write', 'book', 'computer', 'question', 'computer', 'ability', 'serve', 'model', 'human', 'brain', 'assert', 'computer', 'program', 'defeat', 'year', 'old', 'child', 'chess', 'Dreyfus', 'accept', 'challenge', 'Herbert', 'A.', 'Simon', 'artificial', 'intelligence', 'pioneer', 'watch', 'game', 'say', 'wonderful', 'game', 'real', 'cliffhanger', 'woodpusher', 'burst', 'insight', 'fiendish', 'plan', 'great', 'moment', 'drama', 'disaster', 'game', 'computer', 'beat', 'Dreyfus', 'find', 'capture', 'enemy', 'queen', 'way', 'computer', 'Dreyfus', 'check', 'queen', 'fork', 'queen', 'king', 'exchange', 'computer', 'soon', 'Dreyfus', 'lose', 'finally', 'computer', 'checkmate', 'Dreyfus', 'middle', 'board', 'spring', 'Mac', 'Hack', 'VI', 'play', 'Boston', 'Amateur', 'championship', 'win', 'game', 'draw', 'game', 'Mac', 'Hack', 'VI', 'beat', 'United', 'States', 'Chess', 'Federation', 'player', 'time', 'computer', 'win', 'game', 'human', 'tournament', 'end', 'Mac', 'Hack', 'VI', 'achieve', 'rating', 'average', 'rating', 'uscf', 'near', '1500.[2', 'Chess', 'x.x', '1968–1978', 'Northwestern', 'University', 'student', 'Larry', 'Atkin', 'David', 'Slate', 'Keith', 'Gorlen', 'begin', 'work', 'Chess', 'Northwestern', 'University', 'April', 'exhibition', 'game', 'play', 'Australian', 'Champion', 'Fred', 'Flatow', 'program', 'run', 'Control', 'Data', 'Corporation', 'model', 'flatow', 'win', 'easily', 'July', 'Chess', 'scored', '5–0', 'Class', 'B', '1600–1799', 'section', 'Paul', 'Masson', 'chess', 'tournament', 'Saratoga', 'California', 'time', 'computer', 'win', 'human', 'tournament', 'Chess', 'rate', 'chess', 'run', 'Control', 'Data', 'Corporation', 'CDC', 'Cyber', 'supercomputer', 'megaflop', 'look', 'position', 'February', 'Chess', 'win', 'Minnesota', 'Open', 'Championship', 'win', 'loss', 'defeat', 'expert', 'Charles', 'Fenner', 'rate', 'April', 'Chess', 'scored', '5–0', 'Twin', 'Cities', 'Open', 'Minneapolis', 'Chess', 'rate', '2040.[3', 'International', 'Master', 'Edward', 'Lasker', 'state', 'year', 'contention', 'computer', 'play', 'like', 'master', 'retract', 'play', 'absolutely', 'alarmingly', 'know', 'lose', 'game', '4.7.\"[4', 'David', 'Levy', 'bet', 'main', 'article', 'David', 'Levy', 'chess', 'player', 'Computer', 'chess', 'bet', 'long', 'time', '1970', '1980', 'remain', 'open', 'question', 'chess', 'program', 'able', 'defeat', 'expertise', 'human', 'International', 'Master', 'David', 'Levy', 'famous', 'bet', 'chess', 'computer', 'able', 'beat', 'year', 'win', 'bet', 'beat', 'Chess', 'strong', 'computer', 'time', 'Cray', 'Blitz', 'Cray', 'Blitz', 'score', '5–0', 'Mississippi', 'State', 'Championship', 'round', 'defeat', 'Joe', 'Sentef', 'computer', 'beat', 'master', 'tournament', 'play', 'computer', 'gain', 'master', 'rating', '2258).[5', 'HiTech', 'HiTech', 'win', 'Pennsylvania', 'State', 'Chess', 'Championship', 'score', '4½–½.', 'HiTech', 'defeat', 'International', 'Master', 'Ed', 'Formanek', '2485).[6', 'Harvard', 'Cup', 'Man', 'versus', 'Computer', 'Chess', 'Challenge', 'organize', 'Harvard', 'University', 'challenge', 'play', 'Boston', 'New', 'York', 'City', 'challenge', 'human', 'score', 'higher', 'high', 'scorer', 'human'], ['like', 'game', 'chess', 'day', 'go', 'politician', 'analyse', 'interpret', 'significance', 'wide', 'electoral', 'tournament', 'possible', 'move', 'false', 'move', 'induce', 'opponent', 'quaint', 'view', 'present', 'standpoint', 'table', 'chess', 'board', 'precariously', 'sit', 'shake', 'constant', 'bombardment', 'violent', 'impact', 'survival', 'UK', 'war', 'Islamic', 'State', 'future', 'EU', 'wonder', 'chess', 'piece', 'wobble', 'soon', 'simply', 'toss', 'air', 'land', 'know', 'course', 'new', 'player', 'game', 'UKIP', 'think', 'contest', 'long', 'preserve', 'exclusive', 'club', 'elite', 'player', 'unpredictable', 'election', 'Ed', 'Miliband', 'tell', 'understatement', 'week', 'Manchester', 'imponderable', 'pile', 'assess', 'likely', 'outcome', 'look', 'like', 'chess', 'game', 'like', 'mug', 'game', 'start', 'era', 'coalition', 'government', 'mean', 'big', 'party', 'short', 'Commons', 'majority', 'rival', 'set', 'target', 'seat', 'time', 'position', 'have', 'fight', 'defensive', 'offensive', 'campaign', 'simultaneously', 'list', 'marginal', 'seat', 'West', 'Midlands', 'show', 'ultra', 'close', 'knife', 'edge', 'marginal', 'Labour', 'narrow', 'majority', 'worry', 'start', 'take', 'Conservatives', 'chessman', 'board', 'number', 'underline', 'extend', 'Midlands', 'traditionally', 'predominantly', 'party', 'contest', 'Liberal', 'Democrat', 'Lorely', 'Burt', 'stun', 'conservative', 'creep', 'radar', 'work', 'cut', 'defend', 'majority', 'Conservatives', 'emergence', 'Green', 'Party', 'official', 'opposition', 'Solihull', 'Council', 'affect', 'chance', 'large', 'party', 'lorely', 'Burt', 'party', 'colleague', 'John', 'Hemming', 'turn', 'Birmingham', 'Yardley', 'personal', 'fiefdom', 'Labour', 'fight', 'hard', 'overturn', 'majority', 'regain', 'seat', 'capture', 'Education', 'Secretary', 'Estelle', 'Morris', 'liberal', 'Democrats', 'Midlands', 'seat', 'Cheltenham', 'Martin', 'Horwood', 'defend', 'comfortable', 'majority', 'Conservatives', 'home', 'Midlands', 'Liberal', 'Democrat', 'control', 'council', 'confident', 'prediction', 'liberal', 'Democrats', 'lose', 'seat', 'traditional', 'core', 'constituency', 'turn', 'fight', 'limit', 'damage', 'way', 'political', 'street', 'come', 'new', 'kid', 'blog', 'UKIP', 'arguably', 'big', 'imponderable', 'Nigel', 'Farage', 'say', 'repository', 'simply', 'disillusion', 'Tory', 'vote', 'genuine', 'mass', 'party', 'broad', 'appeal', 'tank', 'Labour', 'lawn', 'upset', 'party', 'chess', 'board', 'Dudley', 'North', 'example', 'Labour', 'wafer', 'thin', 'majority', 'Conservatives', 'face', 'additional', 'challenge', 'UKIP', 'candidate', 'Bill', 'Etheridge', 'MEP', 'turn', 'borough', 'local', 'power', 'base', 'politically', 'toxic', 'hand', 'Conservatives', 'tiny', 'majority', 'Labour', 'Warwickshire', 'North', 'fare', 'experienced', 'Labour', 'candidate', 'minister', 'Mike', \"O'Brien\", 'ukip', 'great', 'play', 'opposition', 'high', 'speed', 'rail', 'area', 'HS2', 'mix', 'analogy', 'politically', 'toxic', 'Midlands', 'UKIP', 'vote', 'shrink', 'performance', 'previous', 'summer', 'european', 'election', 'impressive', 'emphatic', 'clear', 'victory', 'year', 'EU', 'poll', 'evidence', 'local', 'election', 'day', 'simply', 'weigh', 'vote', 'Conservatives', 'lose', 'apply', 'number', 'real', 'council', 'area', 'parliamentary', 'constituency', 'Labour', 'suffer', 'fail', 'win', 'majority', 'target', 'council', 'like', 'Tamworth', 'Walsall', 'Worcester', 'remain', 'month', 'polling', 'great', 'imponderable', 'politician', 'event', 'region', 'particularly', 'prone', 'up', 'down', 'economy', 'Birmingham', 'Solihull', 'Chamber', 'Commerce', 'report', 'continue', 'surge', 'business', 'confidence', 'try', 'tell', 'young', 'people', 'constituency', 'say', 'Ian', 'Austin', 'Labour', 'MP', 'key', 'seat', 'Dudley', 'North', 'unemployment', 'remain', 'national', 'average', 'wage', 'continue', 'lag', 'price', 'chess', 'piece', 'politic', 'watcher', 'long', 'memory', 'know', 'election', 'difficult', 'predict', 'help', 'explain', 'mood', 'clearly', 'detectable', 'Labour', 'rank', 'week', 'Manchester', 'uncertain', 'hopeful', 'Conservatives', 'Labour', 'poll', 'long', 'close', 'conference', 'Birmingham', 'sneak', 'feeling', 'confound', 'sooth', 'sayer', 'good', 'authority', 'senior', 'Liberal', 'Democrats', 'prepare', 'embark', 'conference', 'Glasgow', 'mood', 'innermost', 'trepidation', 'end', 'game', 'draw', 'near', 'game', 'chess', 'look', 'like', 'game', 'chance']]\n"
     ]
    }
   ],
   "source": [
    "print(words_list)"
   ]
  },
  {
   "cell_type": "code",
   "execution_count": 16,
   "id": "ad24c3a3",
   "metadata": {},
   "outputs": [
    {
     "name": "stdout",
     "output_type": "stream",
     "text": [
      "3\n"
     ]
    }
   ],
   "source": [
    "print(len(words_list))"
   ]
  },
  {
   "cell_type": "code",
   "execution_count": 17,
   "id": "7fd0d7c3",
   "metadata": {},
   "outputs": [
    {
     "name": "stdout",
     "output_type": "stream",
     "text": [
      "686\n"
     ]
    }
   ],
   "source": [
    "print(len(words_list[0]))"
   ]
  },
  {
   "cell_type": "code",
   "execution_count": 18,
   "id": "dd239526",
   "metadata": {},
   "outputs": [
    {
     "name": "stdout",
     "output_type": "stream",
     "text": [
      "468\n"
     ]
    }
   ],
   "source": [
    "print(len(words_list[1]))"
   ]
  },
  {
   "cell_type": "code",
   "execution_count": 19,
   "id": "e7140e11",
   "metadata": {},
   "outputs": [
    {
     "name": "stdout",
     "output_type": "stream",
     "text": [
      "432\n"
     ]
    }
   ],
   "source": [
    "print(len(words_list[2]))"
   ]
  },
  {
   "cell_type": "markdown",
   "id": "e1d363c5",
   "metadata": {},
   "source": [
    "## Creating a corpus"
   ]
  },
  {
   "cell_type": "code",
   "execution_count": 20,
   "id": "fb696744",
   "metadata": {},
   "outputs": [],
   "source": [
    "corpus=[]\n",
    "from gensim.corpora import Dictionary"
   ]
  },
  {
   "cell_type": "code",
   "execution_count": 21,
   "id": "51777766",
   "metadata": {},
   "outputs": [
    {
     "data": {
      "text/plain": [
       "gensim.corpora.dictionary.Dictionary"
      ]
     },
     "execution_count": 21,
     "metadata": {},
     "output_type": "execute_result"
    }
   ],
   "source": [
    "dict=Dictionary(words_list)\n",
    "type(dict)"
   ]
  },
  {
   "cell_type": "code",
   "execution_count": 22,
   "id": "aa76df6f",
   "metadata": {},
   "outputs": [],
   "source": [
    "for word in words_list:\n",
    "    corpus.append(dict.doc2bow(word))"
   ]
  },
  {
   "cell_type": "code",
   "execution_count": 23,
   "id": "ad8e042d",
   "metadata": {},
   "outputs": [
    {
     "name": "stdout",
     "output_type": "stream",
     "text": [
      "[[(0, 1), (1, 1), (2, 1), (3, 1), (4, 4), (5, 1), (6, 1), (7, 2), (8, 1), (9, 1), (10, 1), (11, 1), (12, 2), (13, 1), (14, 1), (15, 1), (16, 1), (17, 1), (18, 1), (19, 1), (20, 1), (21, 11), (22, 1), (23, 1), (24, 1), (25, 1), (26, 1), (27, 1), (28, 1), (29, 1), (30, 1), (31, 2), (32, 1), (33, 3), (34, 1), (35, 1), (36, 3), (37, 1), (38, 1), (39, 1), (40, 2), (41, 1), (42, 1), (43, 1), (44, 2), (45, 1), (46, 1), (47, 1), (48, 1), (49, 2), (50, 1), (51, 1), (52, 1), (53, 1), (54, 1), (55, 1), (56, 1), (57, 9), (58, 1), (59, 1), (60, 12), (61, 5), (62, 6), (63, 1), (64, 1), (65, 1), (66, 1), (67, 1), (68, 1), (69, 6), (70, 14), (71, 1), (72, 6), (73, 1), (74, 5), (75, 1), (76, 5), (77, 1), (78, 3), (79, 6), (80, 1), (81, 1), (82, 3), (83, 7), (84, 1), (85, 1), (86, 1), (87, 1), (88, 1), (89, 1), (90, 1), (91, 1), (92, 1), (93, 2), (94, 1), (95, 1), (96, 1), (97, 2), (98, 1), (99, 1), (100, 1), (101, 1), (102, 2), (103, 2), (104, 1), (105, 1), (106, 1), (107, 2), (108, 1), (109, 1), (110, 1), (111, 2), (112, 1), (113, 1), (114, 1), (115, 3), (116, 1), (117, 3), (118, 1), (119, 1), (120, 1), (121, 3), (122, 1), (123, 2), (124, 3), (125, 1), (126, 1), (127, 1), (128, 1), (129, 1), (130, 4), (131, 2), (132, 1), (133, 7), (134, 1), (135, 1), (136, 1), (137, 2), (138, 1), (139, 1), (140, 1), (141, 1), (142, 3), (143, 2), (144, 1), (145, 2), (146, 1), (147, 1), (148, 1), (149, 1), (150, 1), (151, 8), (152, 1), (153, 1), (154, 1), (155, 1), (156, 2), (157, 2), (158, 2), (159, 1), (160, 1), (161, 1), (162, 2), (163, 1), (164, 15), (165, 2), (166, 1), (167, 1), (168, 1), (169, 2), (170, 2), (171, 2), (172, 1), (173, 1), (174, 2), (175, 1), (176, 1), (177, 1), (178, 1), (179, 1), (180, 2), (181, 1), (182, 1), (183, 1), (184, 1), (185, 1), (186, 1), (187, 1), (188, 1), (189, 1), (190, 1), (191, 19), (192, 2), (193, 9), (194, 2), (195, 1), (196, 1), (197, 1), (198, 2), (199, 1), (200, 4), (201, 2), (202, 1), (203, 1), (204, 1), (205, 1), (206, 1), (207, 1), (208, 1), (209, 16), (210, 1), (211, 1), (212, 3), (213, 1), (214, 2), (215, 1), (216, 2), (217, 1), (218, 1), (219, 3), (220, 1), (221, 2), (222, 1), (223, 1), (224, 1), (225, 4), (226, 18), (227, 1), (228, 1), (229, 1), (230, 1), (231, 20), (232, 3), (233, 3), (234, 23), (235, 4), (236, 1), (237, 1), (238, 2), (239, 1), (240, 1), (241, 1), (242, 1), (243, 1), (244, 1), (245, 1), (246, 1), (247, 1), (248, 1), (249, 1), (250, 9), (251, 1), (252, 6), (253, 3), (254, 1), (255, 1), (256, 1), (257, 1), (258, 3), (259, 1), (260, 1), (261, 1), (262, 1), (263, 1), (264, 1), (265, 2), (266, 14), (267, 2), (268, 1), (269, 3), (270, 1), (271, 1), (272, 1), (273, 2), (274, 1), (275, 1), (276, 1), (277, 1), (278, 1), (279, 1), (280, 1), (281, 1), (282, 28), (283, 1), (284, 1), (285, 4), (286, 1), (287, 1), (288, 1), (289, 1), (290, 1), (291, 1), (292, 1), (293, 2), (294, 1), (295, 1), (296, 2), (297, 2), (298, 1), (299, 1), (300, 1), (301, 1), (302, 3), (303, 1), (304, 2), (305, 1), (306, 1), (307, 5), (308, 1), (309, 1), (310, 1), (311, 1), (312, 1), (313, 2), (314, 6), (315, 1), (316, 3), (317, 1), (318, 2), (319, 1)], [(7, 13), (26, 1), (42, 1), (48, 2), (57, 1), (62, 1), (70, 1), (75, 1), (76, 1), (78, 1), (79, 14), (80, 1), (108, 8), (121, 2), (131, 1), (133, 1), (139, 1), (163, 1), (164, 10), (191, 1), (194, 1), (201, 2), (202, 2), (203, 1), (208, 1), (218, 1), (222, 2), (233, 8), (234, 5), (238, 2), (250, 3), (269, 1), (270, 1), (271, 3), (286, 1), (293, 5), (296, 4), (311, 2), (313, 1), (316, 9), (318, 1), (320, 1), (321, 1), (322, 1), (323, 1), (324, 1), (325, 1), (326, 1), (327, 1), (328, 1), (329, 1), (330, 1), (331, 1), (332, 1), (333, 3), (334, 1), (335, 2), (336, 1), (337, 2), (338, 1), (339, 1), (340, 1), (341, 2), (342, 2), (343, 2), (344, 1), (345, 1), (346, 1), (347, 2), (348, 3), (349, 1), (350, 1), (351, 1), (352, 1), (353, 2), (354, 2), (355, 3), (356, 2), (357, 1), (358, 1), (359, 2), (360, 4), (361, 2), (362, 1), (363, 1), (364, 7), (365, 1), (366, 1), (367, 1), (368, 1), (369, 1), (370, 1), (371, 1), (372, 1), (373, 1), (374, 1), (375, 1), (376, 1), (377, 7), (378, 2), (379, 1), (380, 3), (381, 1), (382, 3), (383, 1), (384, 1), (385, 1), (386, 1), (387, 1), (388, 1), (389, 1), (390, 1), (391, 3), (392, 2), (393, 2), (394, 1), (395, 3), (396, 7), (397, 1), (398, 1), (399, 3), (400, 1), (401, 1), (402, 1), (403, 1), (404, 2), (405, 2), (406, 1), (407, 1), (408, 1), (409, 1), (410, 1), (411, 1), (412, 1), (413, 1), (414, 1), (415, 1), (416, 1), (417, 2), (418, 1), (419, 1), (420, 1), (421, 3), (422, 7), (423, 1), (424, 1), (425, 1), (426, 4), (427, 1), (428, 1), (429, 1), (430, 1), (431, 1), (432, 1), (433, 1), (434, 1), (435, 6), (436, 4), (437, 1), (438, 1), (439, 1), (440, 4), (441, 1), (442, 1), (443, 1), (444, 2), (445, 22), (446, 1), (447, 1), (448, 1), (449, 1), (450, 1), (451, 1), (452, 1), (453, 1), (454, 1), (455, 1), (456, 1), (457, 1), (458, 1), (459, 2), (460, 1), (461, 1), (462, 1), (463, 1), (464, 1), (465, 1), (466, 1), (467, 1), (468, 1), (469, 1), (470, 11), (471, 1), (472, 1), (473, 1), (474, 1), (475, 1), (476, 1), (477, 1), (478, 1), (479, 1), (480, 1), (481, 1), (482, 1), (483, 3), (484, 4), (485, 1), (486, 1), (487, 1), (488, 2), (489, 1), (490, 1), (491, 1), (492, 1), (493, 1), (494, 1), (495, 1), (496, 1), (497, 1), (498, 2), (499, 7), (500, 2), (501, 3), (502, 3), (503, 1), (504, 1), (505, 1), (506, 1), (507, 1), (508, 5), (509, 2), (510, 1), (511, 1), (512, 1), (513, 1), (514, 1), (515, 1), (516, 1), (517, 3), (518, 3), (519, 1), (520, 1), (521, 1), (522, 1), (523, 1), (524, 1), (525, 1), (526, 1), (527, 2), (528, 1), (529, 3)], [(62, 3), (70, 1), (79, 7), (82, 2), (85, 1), (121, 1), (131, 1), (135, 1), (137, 1), (140, 1), (150, 3), (164, 7), (165, 1), (174, 1), (175, 1), (194, 2), (201, 5), (202, 2), (209, 2), (214, 2), (219, 1), (231, 2), (233, 1), (234, 2), (238, 1), (239, 1), (241, 1), (252, 1), (270, 2), (273, 1), (285, 2), (293, 1), (296, 1), (299, 3), (311, 1), (312, 1), (313, 1), (316, 1), (365, 1), (417, 1), (434, 1), (440, 1), (466, 2), (468, 1), (477, 3), (478, 2), (486, 1), (491, 1), (503, 1), (505, 2), (514, 1), (526, 1), (529, 1), (530, 1), (531, 1), (532, 3), (533, 2), (534, 1), (535, 1), (536, 1), (537, 1), (538, 7), (539, 1), (540, 2), (541, 3), (542, 2), (543, 2), (544, 1), (545, 1), (546, 1), (547, 1), (548, 1), (549, 1), (550, 1), (551, 1), (552, 1), (553, 1), (554, 1), (555, 1), (556, 10), (557, 3), (558, 1), (559, 1), (560, 1), (561, 2), (562, 1), (563, 5), (564, 1), (565, 1), (566, 1), (567, 1), (568, 3), (569, 1), (570, 1), (571, 1), (572, 2), (573, 1), (574, 1), (575, 1), (576, 4), (577, 1), (578, 1), (579, 1), (580, 1), (581, 1), (582, 1), (583, 1), (584, 1), (585, 1), (586, 1), (587, 1), (588, 1), (589, 2), (590, 1), (591, 1), (592, 1), (593, 1), (594, 2), (595, 1), (596, 1), (597, 1), (598, 1), (599, 1), (600, 1), (601, 2), (602, 2), (603, 1), (604, 1), (605, 1), (606, 1), (607, 1), (608, 1), (609, 1), (610, 2), (611, 1), (612, 1), (613, 1), (614, 1), (615, 1), (616, 3), (617, 2), (618, 2), (619, 1), (620, 1), (621, 3), (622, 1), (623, 1), (624, 1), (625, 1), (626, 2), (627, 2), (628, 1), (629, 1), (630, 1), (631, 1), (632, 1), (633, 1), (634, 1), (635, 4), (636, 1), (637, 1), (638, 1), (639, 1), (640, 1), (641, 1), (642, 1), (643, 1), (644, 1), (645, 1), (646, 1), (647, 1), (648, 1), (649, 1), (650, 1), (651, 1), (652, 1), (653, 1), (654, 1), (655, 1), (656, 1), (657, 1), (658, 1), (659, 1), (660, 1), (661, 1), (662, 3), (663, 1), (664, 1), (665, 1), (666, 1), (667, 1), (668, 1), (669, 1), (670, 1), (671, 1), (672, 1), (673, 1), (674, 2), (675, 1), (676, 1), (677, 1), (678, 2), (679, 1), (680, 8), (681, 2), (682, 1), (683, 1), (684, 1), (685, 1), (686, 1), (687, 2), (688, 1), (689, 1), (690, 1), (691, 2), (692, 1), (693, 1), (694, 2), (695, 1), (696, 1), (697, 1), (698, 1), (699, 6), (700, 1), (701, 1), (702, 1), (703, 1), (704, 1), (705, 1), (706, 2), (707, 2), (708, 2), (709, 1), (710, 1), (711, 1), (712, 1), (713, 1), (714, 1), (715, 1), (716, 1), (717, 1), (718, 1), (719, 1), (720, 1), (721, 1), (722, 1), (723, 1), (724, 1), (725, 1), (726, 1), (727, 1), (728, 1), (729, 6), (730, 1), (731, 1), (732, 1), (733, 1), (734, 1), (735, 1), (736, 3), (737, 1), (738, 1), (739, 1), (740, 1), (741, 1), (742, 1), (743, 1), (744, 1), (745, 1), (746, 1), (747, 1), (748, 1), (749, 1), (750, 1), (751, 1), (752, 2), (753, 2), (754, 1), (755, 1), (756, 1), (757, 1), (758, 2), (759, 1), (760, 1), (761, 1), (762, 1), (763, 1), (764, 1), (765, 1), (766, 1), (767, 1), (768, 1), (769, 1), (770, 1), (771, 1), (772, 1), (773, 3), (774, 1), (775, 1), (776, 1), (777, 1), (778, 2), (779, 1), (780, 1), (781, 1), (782, 1), (783, 1), (784, 1)]]\n"
     ]
    }
   ],
   "source": [
    "print(corpus)"
   ]
  },
  {
   "cell_type": "code",
   "execution_count": 24,
   "id": "c49fba47",
   "metadata": {},
   "outputs": [
    {
     "data": {
      "text/plain": [
       "3"
      ]
     },
     "execution_count": 24,
     "metadata": {},
     "output_type": "execute_result"
    }
   ],
   "source": [
    "len(corpus)"
   ]
  },
  {
   "cell_type": "code",
   "execution_count": 25,
   "id": "b8da6012",
   "metadata": {},
   "outputs": [
    {
     "data": {
      "text/plain": [
       "320"
      ]
     },
     "execution_count": 25,
     "metadata": {},
     "output_type": "execute_result"
    }
   ],
   "source": [
    "len(corpus[0])"
   ]
  },
  {
   "cell_type": "code",
   "execution_count": 26,
   "id": "1bac346d",
   "metadata": {},
   "outputs": [
    {
     "data": {
      "text/plain": [
       "251"
      ]
     },
     "execution_count": 26,
     "metadata": {},
     "output_type": "execute_result"
    }
   ],
   "source": [
    "len(corpus[1])"
   ]
  },
  {
   "cell_type": "code",
   "execution_count": 27,
   "id": "5c7290c2",
   "metadata": {},
   "outputs": [
    {
     "data": {
      "text/plain": [
       "308"
      ]
     },
     "execution_count": 27,
     "metadata": {},
     "output_type": "execute_result"
    }
   ],
   "source": [
    "len(corpus[2])"
   ]
  },
  {
   "cell_type": "markdown",
   "id": "eef2274d",
   "metadata": {},
   "source": [
    "## Creating an LDA model"
   ]
  },
  {
   "cell_type": "code",
   "execution_count": 28,
   "id": "bbf4f7cf",
   "metadata": {},
   "outputs": [],
   "source": [
    "lda=gensim.models.ldamodel.LdaModel(corpus=corpus,\n",
    "                                   num_topics=5,\n",
    "                                   id2word=dict)"
   ]
  },
  {
   "cell_type": "code",
   "execution_count": 29,
   "id": "8a1be486",
   "metadata": {},
   "outputs": [
    {
     "data": {
      "text/plain": [
       "gensim.models.ldamodel.LdaModel"
      ]
     },
     "execution_count": 29,
     "metadata": {},
     "output_type": "execute_result"
    }
   ],
   "source": [
    "type(lda)"
   ]
  },
  {
   "cell_type": "markdown",
   "id": "1807956f",
   "metadata": {},
   "source": [
    "## Displaying topics"
   ]
  },
  {
   "cell_type": "code",
   "execution_count": 30,
   "id": "e45522d6",
   "metadata": {},
   "outputs": [
    {
     "data": {
      "text/plain": [
       "[(0,\n",
       "  '0.015*\"computer\" + 0.013*\"game\" + 0.013*\"player\" + 0.011*\"chess\" + 0.010*\"Chess\" + 0.008*\"play\" + 0.008*\"win\" + 0.007*\"human\" + 0.006*\"defeat\" + 0.006*\"pawn\"'),\n",
       " (1,\n",
       "  '0.022*\"square\" + 0.018*\"player\" + 0.017*\"game\" + 0.015*\"king\" + 0.015*\"piece\" + 0.013*\"pawn\" + 0.013*\"chess\" + 0.012*\"move\" + 0.011*\"rook\" + 0.010*\"capture\"'),\n",
       " (2,\n",
       "  '0.014*\"square\" + 0.014*\"game\" + 0.012*\"player\" + 0.010*\"chess\" + 0.010*\"piece\" + 0.009*\"move\" + 0.009*\"king\" + 0.009*\"capture\" + 0.007*\"pawn\" + 0.007*\"rook\"'),\n",
       " (3,\n",
       "  '0.012*\"game\" + 0.011*\"chess\" + 0.011*\"player\" + 0.011*\"square\" + 0.009*\"computer\" + 0.009*\"piece\" + 0.009*\"king\" + 0.009*\"pawn\" + 0.008*\"move\" + 0.007*\"capture\"'),\n",
       " (4,\n",
       "  '0.013*\"chess\" + 0.013*\"game\" + 0.010*\"player\" + 0.009*\"computer\" + 0.008*\"square\" + 0.008*\"piece\" + 0.007*\"Chess\" + 0.007*\"Labour\" + 0.006*\"like\" + 0.006*\"Conservatives\"')]"
      ]
     },
     "execution_count": 30,
     "metadata": {},
     "output_type": "execute_result"
    }
   ],
   "source": [
    "lda.print_topics()"
   ]
  },
  {
   "cell_type": "code",
   "execution_count": 31,
   "id": "440d5af1",
   "metadata": {},
   "outputs": [
    {
     "data": {
      "text/plain": [
       "[(0,\n",
       "  '0.015*\"computer\" + 0.013*\"game\" + 0.013*\"player\" + 0.011*\"chess\" + 0.010*\"Chess\" + 0.008*\"play\" + 0.008*\"win\" + 0.007*\"human\" + 0.006*\"defeat\" + 0.006*\"pawn\"'),\n",
       " (1,\n",
       "  '0.022*\"square\" + 0.018*\"player\" + 0.017*\"game\" + 0.015*\"king\" + 0.015*\"piece\" + 0.013*\"pawn\" + 0.013*\"chess\" + 0.012*\"move\" + 0.011*\"rook\" + 0.010*\"capture\"')]"
      ]
     },
     "execution_count": 31,
     "metadata": {},
     "output_type": "execute_result"
    }
   ],
   "source": [
    "lda.print_topics()[:2]"
   ]
  },
  {
   "cell_type": "markdown",
   "id": "c3a56cc6",
   "metadata": {},
   "source": [
    "## Getting topics for a word"
   ]
  },
  {
   "cell_type": "code",
   "execution_count": 34,
   "id": "b5236662",
   "metadata": {},
   "outputs": [
    {
     "data": {
      "text/plain": [
       "[(0, 0.012445237),\n",
       " (1, 0.015982224),\n",
       " (2, 0.01219183),\n",
       " (3, 0.011123371),\n",
       " (4, 0.011935326)]"
      ]
     },
     "execution_count": 34,
     "metadata": {},
     "output_type": "execute_result"
    }
   ],
   "source": [
    "lda.get_term_topics('game')"
   ]
  },
  {
   "cell_type": "code",
   "execution_count": 35,
   "id": "76d6d03a",
   "metadata": {},
   "outputs": [
    {
     "ename": "IndexError",
     "evalue": "list index out of range",
     "output_type": "error",
     "traceback": [
      "\u001b[1;31m---------------------------------------------------------------------------\u001b[0m",
      "\u001b[1;31mIndexError\u001b[0m                                Traceback (most recent call last)",
      "Input \u001b[1;32mIn [35]\u001b[0m, in \u001b[0;36m<cell line: 1>\u001b[1;34m()\u001b[0m\n\u001b[1;32m----> 1\u001b[0m \u001b[43mlda\u001b[49m\u001b[38;5;241;43m.\u001b[39;49m\u001b[43mget_term_topics\u001b[49m\u001b[43m(\u001b[49m\u001b[38;5;124;43m'\u001b[39;49m\u001b[38;5;124;43mpolitics\u001b[39;49m\u001b[38;5;124;43m'\u001b[39;49m\u001b[43m)\u001b[49m\n",
      "File \u001b[1;32m~\\anaconda3\\lib\\site-packages\\gensim\\models\\ldamodel.py:1409\u001b[0m, in \u001b[0;36mLdaModel.get_term_topics\u001b[1;34m(self, word_id, minimum_probability)\u001b[0m\n\u001b[0;32m   1407\u001b[0m \u001b[38;5;66;03m# if user enters word instead of id in vocab, change to get id\u001b[39;00m\n\u001b[0;32m   1408\u001b[0m \u001b[38;5;28;01mif\u001b[39;00m \u001b[38;5;28misinstance\u001b[39m(word_id, \u001b[38;5;28mstr\u001b[39m):\n\u001b[1;32m-> 1409\u001b[0m     word_id \u001b[38;5;241m=\u001b[39m \u001b[38;5;28;43mself\u001b[39;49m\u001b[38;5;241;43m.\u001b[39;49m\u001b[43mid2word\u001b[49m\u001b[38;5;241;43m.\u001b[39;49m\u001b[43mdoc2bow\u001b[49m\u001b[43m(\u001b[49m\u001b[43m[\u001b[49m\u001b[43mword_id\u001b[49m\u001b[43m]\u001b[49m\u001b[43m)\u001b[49m\u001b[43m[\u001b[49m\u001b[38;5;241;43m0\u001b[39;49m\u001b[43m]\u001b[49m[\u001b[38;5;241m0\u001b[39m]\n\u001b[0;32m   1411\u001b[0m values \u001b[38;5;241m=\u001b[39m []\n\u001b[0;32m   1412\u001b[0m \u001b[38;5;28;01mfor\u001b[39;00m topic_id \u001b[38;5;129;01min\u001b[39;00m \u001b[38;5;28mrange\u001b[39m(\u001b[38;5;241m0\u001b[39m, \u001b[38;5;28mself\u001b[39m\u001b[38;5;241m.\u001b[39mnum_topics):\n",
      "\u001b[1;31mIndexError\u001b[0m: list index out of range"
     ]
    }
   ],
   "source": [
    "lda.get_term_topics('politics')"
   ]
  },
  {
   "cell_type": "code",
   "execution_count": null,
   "id": "afa2eec6",
   "metadata": {},
   "outputs": [],
   "source": [
    "lda.get_term_topics('famous')"
   ]
  },
  {
   "cell_type": "code",
   "execution_count": null,
   "id": "17f838e0",
   "metadata": {},
   "outputs": [],
   "source": [
    "lda.get_term_topics('player')"
   ]
  },
  {
   "cell_type": "markdown",
   "id": "8c0b58db",
   "metadata": {},
   "source": [
    "## Visualisation of topics"
   ]
  },
  {
   "cell_type": "code",
   "execution_count": 36,
   "id": "77df8950",
   "metadata": {},
   "outputs": [],
   "source": [
    "pyLDAvis.enable_notebook()"
   ]
  },
  {
   "cell_type": "code",
   "execution_count": 37,
   "id": "99b1b79d",
   "metadata": {},
   "outputs": [
    {
     "name": "stderr",
     "output_type": "stream",
     "text": [
      "C:\\Users\\guruc\\anaconda3\\lib\\site-packages\\pyLDAvis\\_prepare.py:243: FutureWarning: In a future version of pandas all arguments of DataFrame.drop except for the argument 'labels' will be keyword-only.\n",
      "  default_term_info = default_term_info.sort_values(\n"
     ]
    }
   ],
   "source": [
    "plot=pyLDAvis.gensim_models.prepare(lda,\n",
    "                                    corpus=corpus,\n",
    "                                   dictionary=lda.id2word)"
   ]
  },
  {
   "cell_type": "code",
   "execution_count": 38,
   "id": "6343714b",
   "metadata": {},
   "outputs": [
    {
     "data": {
      "text/html": [
       "\n",
       "<link rel=\"stylesheet\" type=\"text/css\" href=\"https://cdn.jsdelivr.net/gh/bmabey/pyLDAvis@3.4.0/pyLDAvis/js/ldavis.v1.0.0.css\">\n",
       "\n",
       "\n",
       "<div id=\"ldavis_el44642778476412368120879213\" style=\"background-color:white;\"></div>\n",
       "<script type=\"text/javascript\">\n",
       "\n",
       "var ldavis_el44642778476412368120879213_data = {\"mdsDat\": {\"x\": [0.028757489350254902, -0.02064074046504391, -0.01307621288059048, 0.0007264523009534564, 0.004233011694426043], \"y\": [-0.004605059437680089, -0.006765705292583404, 0.0038173992253968557, -0.0030583885606692315, 0.01061175406553587], \"topics\": [1, 2, 3, 4, 5], \"cluster\": [1, 1, 1, 1, 1], \"Freq\": [43.227959149420656, 35.410230123929765, 21.285030101766107, 0.03847672840812675, 0.038303896475351144]}, \"tinfo\": {\"Term\": [\"square\", \"game\", \"player\", \"chess\", \"piece\", \"king\", \"move\", \"pawn\", \"capture\", \"computer\", \"rook\", \"bishop\", \"queen\", \"White\", \"win\", \"Chess\", \"board\", \"begin\", \"play\", \"Labour\", \"knight\", \"enemy\", \"file\", \"human\", \"rank\", \"majority\", \"colour\", \"like\", \"time\", \"defeat\", \"square\", \"castle\", \"rook\", \"knight\", \"passant\", \"point\", \"begin\", \"bishop\", \"king\", \"Black\", \"advance\", \"value\", \"unobstructed\", \"move\", \"pawn\", \"colour\", \"direction\", \"h1\", \"rank\", \"century\", \"black\", \"white\", \"file\", \"right\", \"different\", \"dark\", \"enemy\", \"army\", \"i.e.\", \"additionally\", \"piece\", \"capture\", \"check\", \"queen\", \"player\", \"White\", \"game\", \"chess\", \"call\", \"computer\", \"win\", \"Chess\", \"play\", \"human\", \"board\", \"long\", \"imponderable\", \"UKIP\", \"Midlands\", \"scored\", \"North\", \"Hack\", \"great\", \"constituency\", \"simply\", \"target\", \"MIT\", \"majority\", \"HiTech\", \"seat\", \"Open\", \"1968\\u20131978\", \"memory\", \"party\", \"new\", \"Democrats\", \"Labour\", \"Dreyfus\", \"local\", \"council\", \"challenge\", \"down\", \"chance\", \"Computer\", \"mix\", \"lose\", \"toxic\", \"play\", \"match\", \"computer\", \"human\", \"election\", \"Chess\", \"defeat\", \"Conservatives\", \"time\", \"VI\", \"program\", \"win\", \"like\", \"run\", \"game\", \"chess\", \"player\", \"Mac\", \"year\", \"tournament\", \"pawn\", \"beat\", \"capture\", \"piece\", \"king\", \"square\", \"queen\", \"move\", \"Conservatives\", \"vote\", \"induce\", \"toss\", \"poll\", \"party\", \"war\", \"sooth\", \"business\", \"area\", \"assess\", \"Labour\", \"Burt\", \"EU\", \"false\", \"good\", \"tank\", \"air\", \"contest\", \"innermost\", \"opposition\", \"fail\", \"emphatic\", \"election\", \"politically\", \"defend\", \"week\", \"Birmingham\", \"continue\", \"analyse\", \"summer\", \"Democrat\", \"majority\", \"turn\", \"seat\", \"board\", \"like\", \"fight\", \"chess\", \"Democrats\", \"game\", \"UKIP\", \"long\", \"Midlands\", \"Chess\", \"defeat\", \"computer\", \"Mac\", \"human\", \"piece\", \"player\", \"VI\", \"tournament\", \"beat\", \"square\", \"play\", \"time\", \"move\", \"queen\", \"rook\", \"win\", \"king\", \"capture\", \"White\", \"Dreyfus\", \"pawn\", \"party\", \"turn\", \"majority\", \"opposition\", \"Etheridge\", \"Party\", \"chance\", \"EU\", \"board\", \"significance\", \"national\", \"good\", \"hand\", \"air\", \"suffer\", \"previous\", \"Midlands\", \"confound\", \"fiefdom\", \"analyse\", \"impressive\", \"Warwickshire\", \"broad\", \"conference\", \"underline\", \"outcome\", \"overturn\", \"Glasgow\", \"course\", \"sooth\", \"possible\", \"view\", \"colour\", \"place\", \"Liberal\", \"election\", \"Labour\", \"vote\", \"White\", \"light\", \"option\", \"know\", \"seat\", \"opponent\", \"pawn\", \"capture\", \"chess\", \"move\", \"win\", \"rank\", \"fight\", \"game\", \"king\", \"square\", \"piece\", \"player\", \"computer\", \"rook\", \"enemy\", \"call\", \"play\", \"human\", \"Chess\", \"queen\", \"knight\", \"file\", \"defeat\", \"bishop\", \"program\", \"time\", \"begin\", \"conference\", \"EU\", \"lawn\", \"induce\", \"clearly\", \"defensive\", \"tell\", \"experienced\", \"tiny\", \"people\", \"apply\", \"Liberal\", \"traditionally\", \"business\", \"exclusive\", \"likely\", \"Democrat\", \"sneak\", \"hard\", \"embark\", \"regain\", \"european\", \"simply\", \"traditional\", \"set\", \"list\", \"Farage\", \"senior\", \"uncertain\", \"Commerce\", \"constituency\", \"Burt\", \"turn\", \"council\", \"capture\", \"area\", \"move\", \"square\", \"place\", \"rank\", \"close\", \"bishop\", \"Conservatives\", \"piece\", \"game\", \"party\", \"rook\", \"player\", \"White\", \"king\", \"chess\", \"board\", \"queen\", \"election\", \"file\", \"pawn\", \"Labour\", \"majority\", \"black\", \"seat\", \"begin\", \"white\", \"start\", \"like\", \"colour\", \"enemy\", \"knight\", \"computer\", \"play\", \"win\"], \"Freq\": [20.0, 23.0, 22.0, 19.0, 16.0, 15.0, 12.0, 13.0, 11.0, 18.0, 10.0, 9.0, 9.0, 7.0, 10.0, 12.0, 6.0, 8.0, 9.0, 6.0, 7.0, 6.0, 6.0, 9.0, 5.0, 5.0, 5.0, 7.0, 6.0, 7.0, 14.827163104022206, 3.8559404484024236, 7.387283857729081, 5.161191635031091, 2.4472320407078163, 2.3997512810376334, 5.769561904567672, 6.458519225360221, 10.314447861318023, 2.3244598764079827, 1.8960534777144267, 2.774733344884388, 1.3722160948205793, 8.496994070865663, 9.060635401446186, 3.3848885705799887, 1.858484795731092, 1.4024964984719046, 3.378779301923397, 2.782970769104569, 2.710807267885399, 3.1372400305612373, 4.020483332418559, 1.4161962205641567, 1.8508244253934774, 1.27299978081552, 4.144094818797102, 1.4120058356481817, 1.3362401773297057, 1.232503368469765, 10.263317215887154, 6.94923116135268, 3.157562543395895, 5.342963448411861, 12.334919902708435, 4.44866593317481, 11.548114037258758, 8.635923105366835, 2.741260388632419, 6.5201380445947255, 4.376539146310548, 4.613494869903963, 3.3633758741358113, 3.114081253996168, 2.9002386534656326, 1.7573472474080691, 1.2402319521702403, 1.566604170708238, 1.850450899092898, 1.1711688929048558, 1.239637128805418, 3.345701110260595, 1.379001274950638, 1.1785439703774239, 1.2020985310432861, 0.9371242705075629, 1.5254525669242538, 2.5782053214910206, 1.5288413210070713, 2.1342591842880094, 1.1424140409180468, 0.7112165283798163, 1.0071145428923043, 1.878813473635331, 0.8798379685385171, 1.2185730068747516, 3.2675861182070824, 3.0722128600721317, 0.9346210173758505, 1.1579441741817507, 2.3006865513207404, 0.5742456669227352, 0.8139496106304689, 1.1137920402257333, 0.5774811059043756, 2.085271053997723, 0.8705346512881181, 4.602513322413134, 1.8409258797068526, 8.443724916903394, 4.182367965351905, 1.3819717305186023, 5.4596442457043635, 3.423497573029274, 2.2355065157180873, 2.926516571419792, 2.853884571965473, 2.6863742576679677, 4.2858881522946985, 3.0104302086560724, 2.1369081031107333, 7.515115812880904, 6.412054129868635, 7.251490202198945, 2.510599180654049, 1.714723295616193, 2.247129696394953, 3.376765299562446, 2.111396470274878, 2.8936915794292837, 3.360610791366444, 3.0675886935578256, 3.188844266797457, 2.308823954626879, 2.437323061636065, 1.9072990922984887, 0.8238630880252624, 0.38551501353576384, 0.41640772375625007, 0.5942398892327199, 1.3122810719239357, 0.4053535062963526, 0.388930223257359, 0.3811328383220068, 0.5856754949289253, 0.38510523710061767, 2.255687111084236, 0.577151186168801, 0.533783736859493, 0.39691742503185534, 0.379995469969694, 0.4143184416404281, 0.3722920895642037, 0.5690041531138079, 0.3785234266272878, 0.539664207516805, 0.3920057276461256, 0.3819892934722073, 0.9426583258721932, 0.5730140043660636, 0.5674331927974626, 0.5748018589133068, 0.7727079607700987, 0.5814402214428538, 0.36327869787175043, 0.388421608447379, 0.5568300949020653, 1.5346495733032257, 0.8312617004002014, 1.2400682225877675, 1.791081983702393, 1.9253627386637506, 0.8874873345332235, 4.413514563393009, 0.7523329505171713, 4.398155669437117, 0.841498998059832, 0.905054863346238, 0.9488786590605442, 2.44817113226545, 1.6743113802072278, 3.1216694160285585, 1.4261332906417004, 1.8273469820652901, 2.6886383352109373, 3.2718210595173134, 1.368630185251283, 1.2710363486497274, 1.2194132423219906, 2.7254698759243734, 1.7009196925008703, 1.3243578244433967, 1.8984661248521038, 1.5181322857343702, 1.6129632065886814, 1.576135124235876, 1.839726498338119, 1.5140822310397866, 1.2985529522034733, 1.140403613959673, 1.325238763214878, 0.002482056731578021, 0.0017578688584835886, 0.003287883811901857, 0.0010196318392849957, 0.0006690389361171015, 0.0006821012462153311, 0.0010172351868124535, 0.0009534962086218809, 0.003893319600973972, 0.0006479897972832317, 0.000639554768391993, 0.0006501812822095117, 0.001380947091111097, 0.0006347097453119782, 0.0006410364787494691, 0.000638129891149825, 0.0019742363646967787, 0.0006240885595990194, 0.000631612837817446, 0.0006174986177962579, 0.0006225471744704699, 0.0006235958164892983, 0.0006161565748196515, 0.000867262399226789, 0.0006182723296197834, 0.0006235607220405955, 0.0006147531520785122, 0.0006214426228744571, 0.0006138132744341047, 0.000608690195337445, 0.000930549909357633, 0.0009558495258440008, 0.0027066387541950544, 0.0012703283942205208, 0.0011794444282895267, 0.0014971288974936056, 0.003294957261433102, 0.0011973693086921224, 0.0036426787424914493, 0.0016472385108043744, 0.000937439290636674, 0.0018304657749846863, 0.0019915271296153244, 0.0015339020543397653, 0.005246267147414597, 0.0044624540901397735, 0.006968895922337461, 0.004894077446830727, 0.004051153402986264, 0.002273766347712417, 0.0014387877154708132, 0.007418061104233834, 0.0052540208893360795, 0.0065552338192429, 0.005381026988777379, 0.006844076192842064, 0.005690878860112485, 0.003714246411274317, 0.0025433276606949455, 0.0020461419063501534, 0.0032459554652488885, 0.003075901406783051, 0.0037060780717766617, 0.0030322316934770425, 0.002587874308970158, 0.0022643701287585302, 0.0024076587736528102, 0.0024861205834881264, 0.0021741546623463477, 0.0021747911932377983, 0.0022070198321011347, 0.0011616987038388538, 0.0010627680555557373, 0.0007257693593284276, 0.0007029245049292351, 0.0007090796069596557, 0.0007101008367753473, 0.0010718259538316608, 0.000698769499880641, 0.0007205274234600715, 0.0007079037075035958, 0.0006977568274616043, 0.0013835594668521315, 0.0006987470101935641, 0.0006802482524608327, 0.001081574525956618, 0.0007043480031099997, 0.0010552431335599337, 0.000677172752391928, 0.0006880095990600889, 0.0007036557733706652, 0.0006851836072176221, 0.0006954467546984637, 0.0014113124479278477, 0.0006834141356117631, 0.0014483035983875341, 0.0006804742101658973, 0.0006796684711568825, 0.0006856649430988962, 0.000687983431814119, 0.0007021865885928828, 0.0013264945026191825, 0.0009859127324734378, 0.0015146531258243355, 0.0013250718531058548, 0.005177698532725163, 0.0009720433848865068, 0.00568210119493314, 0.008495540680230522, 0.0013080307524182214, 0.0025183261339158615, 0.0019273664653765145, 0.004084578664235177, 0.0023042673120942368, 0.00612545355062466, 0.008205290193262226, 0.0018605529997408948, 0.004123820480737423, 0.007419979741009229, 0.0031612689460762226, 0.005213934934944333, 0.006150000973346772, 0.0026724404628912612, 0.003475001495244224, 0.0014474011820130033, 0.0024794186923837386, 0.004277169877463064, 0.0025761147285833087, 0.0020871709680715072, 0.0018514189335625127, 0.0018642287198545205, 0.002743316923880862, 0.0019531365349860007, 0.0018825535714849817, 0.00221790875249852, 0.0018755032667532436, 0.0020129426950400166, 0.0021023005868021794, 0.002115005279776589, 0.0019940028424069757, 0.001994168191112591], \"Total\": [20.0, 23.0, 22.0, 19.0, 16.0, 15.0, 12.0, 13.0, 11.0, 18.0, 10.0, 9.0, 9.0, 7.0, 10.0, 12.0, 6.0, 8.0, 9.0, 6.0, 7.0, 6.0, 6.0, 9.0, 5.0, 5.0, 5.0, 7.0, 6.0, 7.0, 20.75652802124351, 5.401912437103229, 10.52688807241526, 7.407057951966065, 3.5587352378394588, 3.509008163029339, 8.475924110580742, 9.51313069045543, 15.232231009038246, 3.449489198934685, 2.831587465842171, 4.161703671692272, 2.0678055687228096, 12.843359435995596, 13.77216290124839, 5.178829793151735, 2.8556243587706467, 2.1562923342113867, 5.208137899869465, 4.2904140981757894, 4.1818817473379735, 4.841127196553046, 6.209191040814246, 2.187885688157665, 2.8599788875595062, 1.9769665025628549, 6.441779070932167, 2.195751397494314, 2.093455089160129, 1.95695193878072, 16.324072823003938, 11.366645124444615, 5.066307001673044, 9.176426921961832, 22.872495220358545, 7.789053214894395, 23.477008870874275, 19.474610695524163, 4.725115823580876, 18.093338261666567, 10.244607744435221, 12.526737082060313, 9.672048847357472, 9.128141217927247, 6.443325278261033, 3.3026511363012965, 2.348723795772149, 2.9869388694377497, 3.546879433089635, 2.2497091248064987, 2.4033672179906427, 6.4902344983723195, 2.675766331922306, 2.295772126245317, 2.352185978625357, 1.8372476011790866, 2.9921752071890526, 5.066047256980831, 3.0048668024203993, 4.2485497825507625, 2.2771433295265875, 1.4181209806882327, 2.010864665919009, 3.7813504910444413, 1.770890499539219, 2.461404100553333, 6.608574669463297, 6.236922496105648, 1.897497069736736, 2.3581208122929547, 4.694903066785563, 1.173114848131546, 1.6634063183880399, 2.280048346134966, 1.1824023626722804, 4.298136250958788, 1.782679850915536, 9.672048847357472, 3.809309445623826, 18.093338261666567, 9.128141217927247, 2.8636330208125065, 12.526737082060313, 7.608549245820613, 4.86475480100247, 6.56665241135998, 6.392228205512509, 6.01410678465081, 10.244607744435221, 7.02449010480872, 4.775737640379965, 23.477008870874275, 19.474610695524163, 22.872495220358545, 6.199445847268909, 3.6465910609059393, 5.775352404348156, 13.77216290124839, 5.501634818803486, 11.366645124444615, 16.324072823003938, 15.232231009038246, 20.75652802124351, 9.176426921961832, 12.843359435995596, 4.86475480100247, 2.288373942687111, 1.087573120824466, 1.1902990085892584, 1.708035184044642, 3.7813504910444413, 1.1726624424976735, 1.125866406525293, 1.1045147695857613, 1.7043040985996738, 1.125492725773603, 6.608574669463297, 1.693165360659772, 1.5698480664141028, 1.168414302903402, 1.1203901251426842, 1.2237378844219446, 1.1065046344256233, 1.6978143350619037, 1.1304488846409155, 1.6312089160873806, 1.1864091208598135, 1.1580038511781217, 2.8636330208125065, 1.7491980212497502, 1.7371453970564936, 1.762766141386851, 2.38342314215173, 1.795402792716402, 1.122204492993638, 1.201201268615954, 1.7363158823919074, 5.066047256980831, 2.6932046099070246, 4.2485497825507625, 6.443325278261033, 7.02449010480872, 2.9594172887452515, 19.474610695524163, 2.461404100553333, 23.477008870874275, 2.9869388694377497, 3.3026511363012965, 3.546879433089635, 12.526737082060313, 7.608549245820613, 18.093338261666567, 6.199445847268909, 9.128141217927247, 16.324072823003938, 22.872495220358545, 6.392228205512509, 5.775352404348156, 5.501634818803486, 20.75652802124351, 9.672048847357472, 6.56665241135998, 12.843359435995596, 9.176426921961832, 10.52688807241526, 10.244607744435221, 15.232231009038246, 11.366645124444615, 7.789053214894395, 6.236922496105648, 13.77216290124839, 3.7813504910444413, 2.6932046099070246, 5.066047256980831, 1.6312089160873806, 1.0849533840323002, 1.1088948801170089, 1.6634063183880399, 1.5698480664141028, 6.443325278261033, 1.1050751189802135, 1.0926078397744163, 1.1203901251426842, 2.4015019470696872, 1.1065046344256233, 1.1231244241549079, 1.139386918266621, 3.546879433089635, 1.1241931423977107, 1.1404545811594278, 1.122204492993638, 1.131536252532858, 1.1434541624615304, 1.1311759531238785, 1.597518375732181, 1.1393325685539961, 1.1492833779457174, 1.1331357086248577, 1.1470680390338084, 1.1352584258151635, 1.125866406525293, 1.7257890187688414, 1.782049154735932, 5.178829793151735, 2.399782346892757, 2.221393765693288, 2.8636330208125065, 6.608574669463297, 2.288373942687111, 7.789053214894395, 3.2773113487710397, 1.7681682206047047, 3.7529106200372158, 4.2485497825507625, 3.1756623017892434, 13.77216290124839, 11.366645124444615, 19.474610695524163, 12.843359435995596, 10.244607744435221, 5.208137899869465, 2.9594172887452515, 23.477008870874275, 15.232231009038246, 20.75652802124351, 16.324072823003938, 22.872495220358545, 18.093338261666567, 10.52688807241526, 6.441779070932167, 4.725115823580876, 9.672048847357472, 9.128141217927247, 12.526737082060313, 9.176426921961832, 7.407057951966065, 6.209191040814246, 7.608549245820613, 9.51313069045543, 6.01410678465081, 6.56665241135998, 8.475924110580742, 1.597518375732181, 1.5698480664141028, 1.1185294422495078, 1.087573120824466, 1.1083239756470762, 1.1213439325974512, 1.6976030996588185, 1.1079380940505883, 1.1474056917257132, 1.1333376187842332, 1.1194977691139307, 2.221393765693288, 1.130048682799416, 1.1045147695857613, 1.757069961381701, 1.1550037923057381, 1.7363158823919074, 1.1152791416507184, 1.1364707840891137, 1.1667033986370308, 1.1403673542840973, 1.1586955486594648, 2.352185978625357, 1.1431953877411731, 2.4232939244940432, 1.1403131807412656, 1.142239392233911, 1.1529923818073835, 1.1578696896460998, 1.1848824729267797, 2.295772126245317, 1.693165360659772, 2.6932046099070246, 2.3581208122929547, 11.366645124444615, 1.7043040985996738, 12.843359435995596, 20.75652802124351, 2.399782346892757, 5.208137899869465, 3.8152484576853105, 9.51313069045543, 4.86475480100247, 16.324072823003938, 23.477008870874275, 3.7813504910444413, 10.52688807241526, 22.872495220358545, 7.789053214894395, 15.232231009038246, 19.474610695524163, 6.443325278261033, 9.176426921961832, 2.8636330208125065, 6.209191040814246, 13.77216290124839, 6.608574669463297, 5.066047256980831, 4.1818817473379735, 4.2485497825507625, 8.475924110580742, 4.841127196553046, 4.734946788703138, 7.02449010480872, 5.178829793151735, 6.441779070932167, 7.407057951966065, 18.093338261666567, 9.672048847357472, 10.244607744435221], \"Category\": [\"Default\", \"Default\", \"Default\", \"Default\", \"Default\", \"Default\", \"Default\", \"Default\", \"Default\", \"Default\", \"Default\", \"Default\", \"Default\", \"Default\", \"Default\", \"Default\", \"Default\", \"Default\", \"Default\", \"Default\", \"Default\", \"Default\", \"Default\", \"Default\", \"Default\", \"Default\", \"Default\", \"Default\", \"Default\", \"Default\", \"Topic1\", \"Topic1\", \"Topic1\", \"Topic1\", \"Topic1\", \"Topic1\", \"Topic1\", \"Topic1\", \"Topic1\", \"Topic1\", \"Topic1\", \"Topic1\", \"Topic1\", \"Topic1\", \"Topic1\", \"Topic1\", \"Topic1\", \"Topic1\", \"Topic1\", \"Topic1\", \"Topic1\", \"Topic1\", \"Topic1\", \"Topic1\", \"Topic1\", \"Topic1\", \"Topic1\", \"Topic1\", \"Topic1\", \"Topic1\", \"Topic1\", \"Topic1\", \"Topic1\", \"Topic1\", \"Topic1\", \"Topic1\", \"Topic1\", \"Topic1\", \"Topic1\", \"Topic1\", \"Topic1\", \"Topic1\", \"Topic1\", \"Topic1\", \"Topic1\", \"Topic2\", \"Topic2\", \"Topic2\", \"Topic2\", \"Topic2\", \"Topic2\", \"Topic2\", \"Topic2\", \"Topic2\", \"Topic2\", \"Topic2\", \"Topic2\", \"Topic2\", \"Topic2\", \"Topic2\", \"Topic2\", \"Topic2\", \"Topic2\", \"Topic2\", \"Topic2\", \"Topic2\", \"Topic2\", \"Topic2\", \"Topic2\", \"Topic2\", \"Topic2\", \"Topic2\", \"Topic2\", \"Topic2\", \"Topic2\", \"Topic2\", \"Topic2\", \"Topic2\", \"Topic2\", \"Topic2\", \"Topic2\", \"Topic2\", \"Topic2\", \"Topic2\", \"Topic2\", \"Topic2\", \"Topic2\", \"Topic2\", \"Topic2\", \"Topic2\", \"Topic2\", \"Topic2\", \"Topic2\", \"Topic2\", \"Topic2\", \"Topic2\", \"Topic2\", \"Topic2\", \"Topic2\", \"Topic2\", \"Topic2\", \"Topic2\", \"Topic2\", \"Topic2\", \"Topic2\", \"Topic3\", \"Topic3\", \"Topic3\", \"Topic3\", \"Topic3\", \"Topic3\", \"Topic3\", \"Topic3\", \"Topic3\", \"Topic3\", \"Topic3\", \"Topic3\", \"Topic3\", \"Topic3\", \"Topic3\", \"Topic3\", \"Topic3\", \"Topic3\", \"Topic3\", \"Topic3\", \"Topic3\", \"Topic3\", \"Topic3\", \"Topic3\", \"Topic3\", \"Topic3\", \"Topic3\", \"Topic3\", \"Topic3\", \"Topic3\", \"Topic3\", \"Topic3\", \"Topic3\", \"Topic3\", \"Topic3\", \"Topic3\", \"Topic3\", \"Topic3\", \"Topic3\", \"Topic3\", \"Topic3\", \"Topic3\", \"Topic3\", \"Topic3\", \"Topic3\", \"Topic3\", \"Topic3\", \"Topic3\", \"Topic3\", \"Topic3\", \"Topic3\", \"Topic3\", \"Topic3\", \"Topic3\", \"Topic3\", \"Topic3\", \"Topic3\", \"Topic3\", \"Topic3\", \"Topic3\", \"Topic3\", \"Topic3\", \"Topic3\", \"Topic3\", \"Topic3\", \"Topic3\", \"Topic4\", \"Topic4\", \"Topic4\", \"Topic4\", \"Topic4\", \"Topic4\", \"Topic4\", \"Topic4\", \"Topic4\", \"Topic4\", \"Topic4\", \"Topic4\", \"Topic4\", \"Topic4\", \"Topic4\", \"Topic4\", \"Topic4\", \"Topic4\", \"Topic4\", \"Topic4\", \"Topic4\", \"Topic4\", \"Topic4\", \"Topic4\", \"Topic4\", \"Topic4\", \"Topic4\", \"Topic4\", \"Topic4\", \"Topic4\", \"Topic4\", \"Topic4\", \"Topic4\", \"Topic4\", \"Topic4\", \"Topic4\", \"Topic4\", \"Topic4\", \"Topic4\", \"Topic4\", \"Topic4\", \"Topic4\", \"Topic4\", \"Topic4\", \"Topic4\", \"Topic4\", \"Topic4\", \"Topic4\", \"Topic4\", \"Topic4\", \"Topic4\", \"Topic4\", \"Topic4\", \"Topic4\", \"Topic4\", \"Topic4\", \"Topic4\", \"Topic4\", \"Topic4\", \"Topic4\", \"Topic4\", \"Topic4\", \"Topic4\", \"Topic4\", \"Topic4\", \"Topic4\", \"Topic4\", \"Topic4\", \"Topic4\", \"Topic4\", \"Topic4\", \"Topic5\", \"Topic5\", \"Topic5\", \"Topic5\", \"Topic5\", \"Topic5\", \"Topic5\", \"Topic5\", \"Topic5\", \"Topic5\", \"Topic5\", \"Topic5\", \"Topic5\", \"Topic5\", \"Topic5\", \"Topic5\", \"Topic5\", \"Topic5\", \"Topic5\", \"Topic5\", \"Topic5\", \"Topic5\", \"Topic5\", \"Topic5\", \"Topic5\", \"Topic5\", \"Topic5\", \"Topic5\", \"Topic5\", \"Topic5\", \"Topic5\", \"Topic5\", \"Topic5\", \"Topic5\", \"Topic5\", \"Topic5\", \"Topic5\", \"Topic5\", \"Topic5\", \"Topic5\", \"Topic5\", \"Topic5\", \"Topic5\", \"Topic5\", \"Topic5\", \"Topic5\", \"Topic5\", \"Topic5\", \"Topic5\", \"Topic5\", \"Topic5\", \"Topic5\", \"Topic5\", \"Topic5\", \"Topic5\", \"Topic5\", \"Topic5\", \"Topic5\", \"Topic5\", \"Topic5\", \"Topic5\", \"Topic5\", \"Topic5\", \"Topic5\", \"Topic5\", \"Topic5\", \"Topic5\", \"Topic5\", \"Topic5\", \"Topic5\"], \"logprob\": [30.0, 29.0, 28.0, 27.0, 26.0, 25.0, 24.0, 23.0, 22.0, 21.0, 20.0, 19.0, 18.0, 17.0, 16.0, 15.0, 14.0, 13.0, 12.0, 11.0, 10.0, 9.0, 8.0, 7.0, 6.0, 5.0, 4.0, 3.0, 2.0, 1.0, -3.8338, -5.1807, -4.5305, -4.8891, -5.6353, -5.6549, -4.7777, -4.6649, -4.1967, -5.6868, -5.8905, -5.5097, -6.2139, -4.3906, -4.3263, -5.311, -5.9105, -6.192, -5.3128, -5.5068, -5.533, -5.3869, -5.1389, -6.1823, -5.9147, -6.2889, -5.1086, -6.1853, -6.2404, -6.3212, -4.2017, -4.5917, -5.3805, -4.8545, -4.0179, -5.0377, -4.0838, -4.3744, -5.5219, -4.6554, -5.054, -5.0013, -5.3173, -5.3944, -5.4655, -5.767, -6.1155, -5.8819, -5.7154, -6.1728, -6.116, -5.1231, -6.0094, -6.1665, -6.1467, -6.3957, -5.9085, -5.3837, -5.9063, -5.5727, -6.1977, -6.6716, -6.3237, -5.7002, -6.4588, -6.1331, -5.1467, -5.2084, -6.3984, -6.1842, -5.4976, -6.8855, -6.5367, -6.223, -6.8799, -5.5959, -6.4694, -4.8042, -5.7205, -4.1974, -4.8999, -6.0073, -4.6334, -5.1001, -5.5263, -5.257, -5.2821, -5.3426, -4.8755, -5.2287, -5.5714, -4.3139, -4.4726, -4.3496, -5.4103, -5.7915, -5.5211, -5.1139, -5.5835, -5.2683, -5.1187, -5.2099, -5.1711, -5.4941, -5.4399, -5.1761, -6.0156, -6.775, -6.6979, -6.3423, -5.55, -6.7248, -6.7662, -6.7864, -6.3568, -6.776, -5.0083, -6.3715, -6.4496, -6.7458, -6.7894, -6.7029, -6.8099, -6.3857, -6.7933, -6.4386, -6.7583, -6.7842, -5.8809, -6.3786, -6.3884, -6.3755, -6.0797, -6.3641, -6.8344, -6.7675, -6.4073, -5.3935, -6.0066, -5.6066, -5.239, -5.1667, -5.9412, -4.3371, -6.1064, -4.3406, -5.9944, -5.9216, -5.8743, -4.9265, -5.3064, -4.6834, -5.4668, -5.2189, -4.8328, -4.6365, -5.508, -5.582, -5.6234, -4.8192, -5.2906, -5.5409, -5.1808, -5.4043, -5.3437, -5.3668, -5.2122, -5.407, -5.5606, -5.6904, -5.5402, -5.5048, -5.8498, -5.2236, -6.3944, -6.8158, -6.7964, -6.3968, -6.4615, -5.0546, -6.8477, -6.8608, -6.8444, -6.0911, -6.8684, -6.8585, -6.8631, -5.7337, -6.8853, -6.8733, -6.8959, -6.8878, -6.8861, -6.8981, -6.5563, -6.8947, -6.8862, -6.9004, -6.8896, -6.9019, -6.9103, -6.4858, -6.459, -5.4181, -6.1746, -6.2488, -6.0103, -5.2215, -6.2337, -5.1211, -5.9148, -6.4785, -5.8093, -5.725, -5.986, -4.7563, -4.9182, -4.4724, -4.8258, -5.0149, -5.5924, -6.0501, -4.4099, -4.7549, -4.5336, -4.731, -4.4905, -4.675, -5.1017, -5.4804, -5.6979, -5.2364, -5.2903, -5.1039, -5.3046, -5.463, -5.5966, -5.5352, -5.5031, -5.6372, -5.6369, -5.6222, -6.2595, -6.3485, -6.7299, -6.7619, -6.7531, -6.7517, -6.34, -6.7678, -6.7371, -6.7548, -6.7692, -6.0847, -6.7678, -6.7946, -6.3309, -6.7598, -6.3556, -6.7992, -6.7833, -6.7608, -6.7874, -6.7726, -6.0648, -6.79, -6.039, -6.7943, -6.7955, -6.7867, -6.7833, -6.7629, -6.1268, -6.4235, -5.9942, -6.1279, -4.765, -6.4377, -4.672, -4.2698, -6.1408, -5.4858, -5.7532, -5.0021, -5.5746, -4.5969, -4.3046, -5.7885, -4.9926, -4.4052, -5.2584, -4.758, -4.5929, -5.4264, -5.1638, -6.0396, -5.5013, -4.9561, -5.4631, -5.6735, -5.7934, -5.7865, -5.4002, -5.7399, -5.7767, -5.6128, -5.7805, -5.7098, -5.6663, -5.6603, -5.7192, -5.7191], \"loglift\": [30.0, 29.0, 28.0, 27.0, 26.0, 25.0, 24.0, 23.0, 22.0, 21.0, 20.0, 19.0, 18.0, 17.0, 16.0, 15.0, 14.0, 13.0, 12.0, 11.0, 10.0, 9.0, 8.0, 7.0, 6.0, 5.0, 4.0, 3.0, 2.0, 1.0, 0.5023, 0.5015, 0.4845, 0.4774, 0.4642, 0.4587, 0.454, 0.4514, 0.4488, 0.4439, 0.4376, 0.4333, 0.4286, 0.4256, 0.42, 0.4134, 0.4092, 0.4085, 0.406, 0.4058, 0.4052, 0.4049, 0.4041, 0.4037, 0.4035, 0.3985, 0.3976, 0.3972, 0.3897, 0.3763, 0.3746, 0.3466, 0.3659, 0.2978, 0.2212, 0.2786, 0.1292, 0.0255, 0.2942, -0.182, -0.0118, -0.1602, -0.2176, -0.2367, 0.0404, 0.4072, 0.3996, 0.3928, 0.3875, 0.3854, 0.3761, 0.3755, 0.3753, 0.3714, 0.3669, 0.365, 0.3645, 0.3627, 0.3624, 0.3497, 0.3484, 0.3481, 0.3467, 0.3387, 0.3387, 0.3351, 0.3339, 0.3301, 0.33, 0.327, 0.3249, 0.3238, 0.3234, 0.3217, 0.3215, 0.3149, 0.3214, 0.2955, 0.311, 0.276, 0.2577, 0.3096, 0.2077, 0.2396, 0.2606, 0.23, 0.2318, 0.2323, 0.1667, 0.1908, 0.234, -0.1009, -0.0728, -0.1106, 0.1342, 0.2836, 0.0942, -0.3676, 0.0805, -0.33, -0.5423, -0.5644, -0.835, -0.3417, -0.6238, 0.6108, 0.5256, 0.51, 0.4969, 0.4914, 0.4889, 0.4849, 0.4843, 0.4832, 0.479, 0.4747, 0.4723, 0.4709, 0.4684, 0.4675, 0.4659, 0.4641, 0.4579, 0.454, 0.4531, 0.441, 0.4398, 0.4381, 0.436, 0.4312, 0.4283, 0.4266, 0.4208, 0.4197, 0.4193, 0.4182, 0.4099, 0.3529, 0.3716, 0.3158, 0.2669, 0.2529, 0.3428, 0.0627, 0.3619, -0.1277, 0.2803, 0.2527, 0.2286, -0.0854, 0.0333, -0.21, 0.0777, -0.0613, -0.2564, -0.3974, 0.0059, 0.0334, 0.0405, -0.4831, -0.1909, -0.0539, -0.3646, -0.252, -0.3287, -0.3246, -0.5666, -0.4687, -0.2443, -0.1519, -0.7939, 0.5341, 0.5285, 0.5228, 0.4852, 0.4717, 0.4692, 0.4633, 0.4565, 0.4513, 0.4213, 0.4196, 0.4109, 0.4018, 0.3993, 0.3943, 0.3754, 0.3692, 0.3666, 0.3642, 0.3577, 0.3576, 0.3488, 0.3476, 0.3443, 0.3438, 0.3437, 0.3436, 0.3422, 0.3402, 0.3401, 0.3375, 0.3322, 0.3062, 0.319, 0.322, 0.3066, 0.2591, 0.3074, 0.1951, 0.2672, 0.3206, 0.2372, 0.1974, 0.2274, -0.01, 0.0201, -0.0725, -0.0097, 0.0274, 0.1263, 0.2339, -0.197, -0.1093, -0.1975, -0.1546, -0.2514, -0.2016, -0.0866, 0.0258, 0.1182, -0.1367, -0.1326, -0.2628, -0.1522, -0.0965, -0.0536, -0.1955, -0.3868, -0.0624, -0.15, -0.3905, 0.6411, 0.5695, 0.5271, 0.5232, 0.513, 0.5027, 0.4998, 0.4987, 0.4943, 0.489, 0.4869, 0.4861, 0.4789, 0.4749, 0.4744, 0.465, 0.4616, 0.4607, 0.4577, 0.454, 0.4502, 0.4491, 0.4488, 0.4451, 0.4449, 0.4434, 0.4405, 0.4399, 0.439, 0.4364, 0.4111, 0.4188, 0.3841, 0.3832, 0.1733, 0.3981, 0.1441, 0.0663, 0.3528, 0.233, 0.2768, 0.1142, 0.2124, -0.0206, -0.0916, 0.2504, 0.0225, -0.1661, 0.0579, -0.1125, -0.193, 0.0796, -0.0114, 0.2773, 0.0416, -0.2097, 0.0175, 0.0729, 0.1448, 0.1359, -0.1684, 0.0519, 0.0373, -0.1932, -0.0561, -0.2036, -0.2998, -1.1869, -0.6195, -0.6769]}, \"token.table\": {\"Topic\": [2, 1, 2, 3, 1, 2, 2, 3, 1, 2, 3, 1, 2, 1, 2, 3, 2, 3, 2, 3, 1, 2, 3, 2, 3, 2, 2, 1, 2, 3, 1, 2, 3, 1, 2, 3, 1, 2, 3, 1, 2, 3, 1, 2, 3, 1, 2, 3, 2, 3, 1, 2, 1, 2, 3, 1, 2, 3, 1, 2, 3, 1, 1, 2, 2, 3, 1, 1, 2, 3, 1, 2, 3, 1, 2, 3, 1, 2, 3, 1, 2, 3, 1, 2, 3, 1, 2, 3, 1, 2, 3, 1, 2, 3, 1, 2, 3, 2, 1, 2, 3, 1, 2, 3, 1, 2, 3, 1, 2, 3, 1, 2, 3, 2, 2, 3, 2, 3, 2, 3, 1, 2, 3, 2, 1, 1, 2, 3, 2, 3, 1, 2, 1, 2, 2, 1, 2, 3, 2, 1, 2, 3, 2, 1, 2, 1, 2, 3, 1, 2, 3, 1, 2, 3, 1, 2, 3, 1, 1, 2, 3, 1, 2, 3, 1, 2, 3, 2, 1, 2, 3, 1, 2, 3, 1, 2, 3, 1, 2, 3, 1, 2, 3, 2, 3, 1, 2, 3, 1, 2, 3, 1, 2, 3, 1, 2, 3, 1, 2, 2, 1, 2, 3, 2, 1, 2, 3, 2, 3, 1, 1, 2, 3, 1, 2, 3, 1, 2, 3, 1, 2, 3, 1, 2, 1, 2, 3, 1, 2, 3, 1, 2, 2, 3, 2, 3, 1, 2, 2, 1, 2, 3, 1, 2, 3, 1, 2, 3, 1, 1, 2, 3, 1, 2, 3, 1, 2, 1, 2, 3, 2, 1, 2, 3, 1, 2, 3, 1, 2, 3, 1, 2, 3, 2, 2, 3, 1, 2, 3, 2, 1, 2, 3, 2, 3, 1, 2, 3, 1, 1, 2, 3, 1, 2, 2, 3, 2, 3, 1, 2, 3, 1, 2, 3, 1, 2, 3], \"Freq\": [0.7051584551796751, 0.41956460953769636, 0.41956460953769636, 0.41956460953769636, 0.5797959885242329, 0.28989799426211643, 0.5906097675009913, 0.5906097675009913, 0.3991462395391501, 0.3991462395391501, 0.15965849581566005, 0.43858719123002565, 0.43858719123002565, 0.20556020619866228, 0.41112041239732455, 0.41112041239732455, 0.5759320698157894, 0.5759320698157894, 0.40627217602148147, 0.40627217602148147, 0.32067097214191864, 0.48100645821287796, 0.16033548607095932, 0.6370043199685126, 0.6370043199685126, 0.8754732211119692, 0.8717878678254466, 0.3081552755145563, 0.4622329132718344, 0.15407763775727815, 0.33279345333859955, 0.6655869066771991, 0.33279345333859955, 0.1513185596011754, 0.4539556788035262, 0.3026371192023508, 0.45016782501318675, 0.45016782501318675, 0.45016782501318675, 0.33420502836778493, 0.6684100567355699, 0.33420502836778493, 0.3226094798265035, 0.48391421973975524, 0.16130473991325175, 0.2819379736087941, 0.5638759472175882, 0.2819379736087941, 0.4160828992400334, 0.4160828992400334, 0.4391467094027399, 0.4391467094027399, 0.3347909159547803, 0.6695818319095606, 0.3347909159547803, 0.3128799435344387, 0.469319915301658, 0.15643997176721935, 0.5135412340425553, 0.2567706170212776, 0.1283853085106388, 0.5109987527966837, 0.7063175777284916, 0.3531587888642458, 0.5867497477836503, 0.5867497477836503, 0.45542496347316547, 0.36352830856101187, 0.36352830856101187, 0.18176415428050594, 0.7078874140118865, 0.23596247133729548, 0.11798123566864774, 0.6307071977913463, 0.21023573259711545, 0.10511786629855772, 0.7173803998426511, 0.23912679994755037, 0.23912679994755037, 0.46559809887630876, 0.31039873258420586, 0.31039873258420586, 0.6349050715388567, 0.21163502384628557, 0.21163502384628557, 0.6158369442665279, 0.26393011897136914, 0.1759534126475794, 0.7404784965646345, 0.18511962414115862, 0.18511962414115862, 0.6992332048497483, 0.2330777349499161, 0.2330777349499161, 0.21299694280688639, 0.42599388561377277, 0.21299694280688639, 0.601176025932781, 0.5921472976290839, 0.19738243254302798, 0.19738243254302798, 0.46214017526257734, 0.3080934501750516, 0.20539563345003437, 0.5242122556844931, 0.2621061278422466, 0.2621061278422466, 0.5792814438441427, 0.19309381461471425, 0.19309381461471425, 0.38688272439091814, 0.44215168501819213, 0.16580688188182205, 0.6259708903452682, 0.4355833005235922, 0.4355833005235922, 0.5889925531601423, 0.5889925531601423, 0.5569780798252094, 0.5569780798252094, 0.42406648327217583, 0.42406648327217583, 0.42406648327217583, 0.8808567082705929, 0.5058254647732486, 0.39429330126868856, 0.39429330126868856, 0.26286220084579237, 0.5756570530563822, 0.5756570530563822, 0.699305861557129, 0.3496529307785645, 0.7003722299318825, 0.35018611496594126, 0.8524314576639525, 0.3492067568477288, 0.3492067568477288, 0.3492067568477288, 0.8571158712387592, 0.6209464739406492, 0.3104732369703246, 0.1552366184851623, 0.863039476726164, 0.569129301609387, 0.569129301609387, 0.33790435833534815, 0.33790435833534815, 0.33790435833534815, 0.6442063021909304, 0.1610515755477326, 0.1610515755477326, 0.5111383680093624, 0.3407589120062416, 0.1703794560031208, 0.37372471133590607, 0.37372471133590607, 0.37372471133590607, 0.4637590108419722, 0.41640607504824223, 0.41640607504824223, 0.41640607504824223, 0.32865398643352917, 0.4382053152447056, 0.2191026576223528, 0.47767922282067626, 0.42576313221676515, 0.42576313221676515, 0.8837542745639619, 0.6565026485001684, 0.1969507945500505, 0.13130052970003367, 0.6750318456294572, 0.13500636912589142, 0.13500636912589142, 0.26645984976590875, 0.5329196995318175, 0.26645984976590875, 0.6102563312301655, 0.30512816561508277, 0.30512816561508277, 0.28471817458051085, 0.4270772618707663, 0.28471817458051085, 0.5270100365102238, 0.5270100365102238, 0.3027870515927152, 0.6055741031854304, 0.3027870515927152, 0.23265898091921336, 0.4653179618384267, 0.23265898091921336, 0.19739255266954647, 0.5921776580086394, 0.39478510533909295, 0.2625147718437026, 0.5250295436874052, 0.2625147718437026, 0.49729850891928534, 0.49729850891928534, 0.845735793135559, 0.6228899876132644, 0.1557224969033161, 0.1557224969033161, 0.5646876530537588, 0.6297898863091181, 0.31489494315455907, 0.31489494315455907, 0.6130422597239115, 0.6130422597239115, 0.5655570484453142, 0.26445578170242334, 0.5289115634048467, 0.26445578170242334, 0.5619974137818183, 0.28099870689090917, 0.28099870689090917, 0.6534921249867142, 0.21783070832890472, 0.0726102361096349, 0.6125922193821609, 0.1837776658146483, 0.1837776658146483, 0.41670445709162, 0.41670445709162, 0.3101721307807124, 0.5169535513011873, 0.2067814205204749, 0.5246476120943262, 0.30604444038835693, 0.13116190302358155, 0.5699616264994359, 0.28498081324971797, 0.5716905621043006, 0.5716905621043006, 0.5854680332942507, 0.5854680332942507, 0.5794451054703018, 0.5794451054703018, 0.8776649827797971, 0.3325514613582179, 0.49882719203732684, 0.16627573067910895, 0.5448743876588349, 0.21794975506353392, 0.21794975506353392, 0.5760216141886702, 0.19200720472955674, 0.19200720472955674, 0.45706227039771063, 0.6649638479906379, 0.189989670854468, 0.189989670854468, 0.4187834740102844, 0.4187834740102844, 0.2093917370051422, 0.4445019087016468, 0.4445019087016468, 0.23537443390850787, 0.47074886781701575, 0.23537443390850787, 0.8673084191869863, 0.41266145633109236, 0.41266145633109236, 0.41266145633109236, 0.4251364514061132, 0.4251364514061132, 0.4251364514061132, 0.7226642136222433, 0.14453284272444866, 0.14453284272444866, 0.6335868456130369, 0.21119561520434563, 0.21119561520434563, 0.544292451032856, 0.5890658424227538, 0.5890658424227538, 0.30456918909551234, 0.4568537836432685, 0.15228459454775617, 0.8715313225403187, 0.34629921431188115, 0.34629921431188115, 0.17314960715594058, 0.5609532185414151, 0.5609532185414151, 0.3713048746172027, 0.3713048746172027, 0.3713048746172027, 0.48360446220176057, 0.7208586282598327, 0.24028620941994422, 0.24028620941994422, 0.561151749008956, 0.561151749008956, 0.4369915167036709, 0.4369915167036709, 0.5672902244498825, 0.5672902244498825, 0.6196903899025922, 0.20656346330086406, 0.20656346330086406, 0.39044930755623747, 0.39044930755623747, 0.19522465377811873, 0.274228720275414, 0.548457440550828, 0.274228720275414], \"Term\": [\"1968\\u20131978\", \"Birmingham\", \"Birmingham\", \"Birmingham\", \"Black\", \"Black\", \"Burt\", \"Burt\", \"Chess\", \"Chess\", \"Chess\", \"Computer\", \"Computer\", \"Conservatives\", \"Conservatives\", \"Conservatives\", \"Democrat\", \"Democrat\", \"Democrats\", \"Democrats\", \"Dreyfus\", \"Dreyfus\", \"Dreyfus\", \"EU\", \"EU\", \"Farage\", \"Glasgow\", \"Hack\", \"Hack\", \"Hack\", \"HiTech\", \"HiTech\", \"HiTech\", \"Labour\", \"Labour\", \"Labour\", \"Liberal\", \"Liberal\", \"Liberal\", \"MIT\", \"MIT\", \"MIT\", \"Mac\", \"Mac\", \"Mac\", \"Midlands\", \"Midlands\", \"Midlands\", \"North\", \"North\", \"Open\", \"Open\", \"UKIP\", \"UKIP\", \"UKIP\", \"VI\", \"VI\", \"VI\", \"White\", \"White\", \"White\", \"additionally\", \"advance\", \"advance\", \"area\", \"area\", \"army\", \"beat\", \"beat\", \"beat\", \"begin\", \"begin\", \"begin\", \"bishop\", \"bishop\", \"bishop\", \"black\", \"black\", \"black\", \"board\", \"board\", \"board\", \"call\", \"call\", \"call\", \"capture\", \"capture\", \"capture\", \"castle\", \"castle\", \"castle\", \"century\", \"century\", \"century\", \"challenge\", \"challenge\", \"challenge\", \"chance\", \"check\", \"check\", \"check\", \"chess\", \"chess\", \"chess\", \"close\", \"close\", \"close\", \"colour\", \"colour\", \"colour\", \"computer\", \"computer\", \"computer\", \"conference\", \"constituency\", \"constituency\", \"contest\", \"contest\", \"continue\", \"continue\", \"council\", \"council\", \"council\", \"course\", \"dark\", \"defeat\", \"defeat\", \"defeat\", \"defend\", \"defend\", \"different\", \"different\", \"direction\", \"direction\", \"down\", \"election\", \"election\", \"election\", \"embark\", \"enemy\", \"enemy\", \"enemy\", \"european\", \"exclusive\", \"exclusive\", \"fight\", \"fight\", \"fight\", \"file\", \"file\", \"file\", \"game\", \"game\", \"game\", \"great\", \"great\", \"great\", \"h1\", \"hand\", \"hand\", \"hand\", \"human\", \"human\", \"human\", \"i.e.\", \"imponderable\", \"imponderable\", \"impressive\", \"king\", \"king\", \"king\", \"knight\", \"knight\", \"knight\", \"know\", \"know\", \"know\", \"light\", \"light\", \"light\", \"like\", \"like\", \"like\", \"local\", \"local\", \"long\", \"long\", \"long\", \"lose\", \"lose\", \"lose\", \"majority\", \"majority\", \"majority\", \"match\", \"match\", \"match\", \"memory\", \"memory\", \"mix\", \"move\", \"move\", \"move\", \"new\", \"opponent\", \"opponent\", \"opponent\", \"opposition\", \"opposition\", \"option\", \"party\", \"party\", \"party\", \"passant\", \"passant\", \"passant\", \"pawn\", \"pawn\", \"pawn\", \"piece\", \"piece\", \"piece\", \"place\", \"place\", \"play\", \"play\", \"play\", \"player\", \"player\", \"player\", \"point\", \"point\", \"politically\", \"politically\", \"poll\", \"poll\", \"possible\", \"possible\", \"previous\", \"program\", \"program\", \"program\", \"queen\", \"queen\", \"queen\", \"rank\", \"rank\", \"rank\", \"right\", \"rook\", \"rook\", \"rook\", \"run\", \"run\", \"run\", \"scored\", \"scored\", \"seat\", \"seat\", \"seat\", \"senior\", \"set\", \"set\", \"set\", \"simply\", \"simply\", \"simply\", \"square\", \"square\", \"square\", \"start\", \"start\", \"start\", \"target\", \"tell\", \"tell\", \"time\", \"time\", \"time\", \"tiny\", \"tournament\", \"tournament\", \"tournament\", \"toxic\", \"toxic\", \"turn\", \"turn\", \"turn\", \"unobstructed\", \"value\", \"value\", \"value\", \"view\", \"view\", \"vote\", \"vote\", \"week\", \"week\", \"white\", \"white\", \"white\", \"win\", \"win\", \"win\", \"year\", \"year\", \"year\"]}, \"R\": 30, \"lambda.step\": 0.01, \"plot.opts\": {\"xlab\": \"PC1\", \"ylab\": \"PC2\"}, \"topic.order\": [2, 1, 5, 4, 3]};\n",
       "\n",
       "function LDAvis_load_lib(url, callback){\n",
       "  var s = document.createElement('script');\n",
       "  s.src = url;\n",
       "  s.async = true;\n",
       "  s.onreadystatechange = s.onload = callback;\n",
       "  s.onerror = function(){console.warn(\"failed to load library \" + url);};\n",
       "  document.getElementsByTagName(\"head\")[0].appendChild(s);\n",
       "}\n",
       "\n",
       "if(typeof(LDAvis) !== \"undefined\"){\n",
       "   // already loaded: just create the visualization\n",
       "   !function(LDAvis){\n",
       "       new LDAvis(\"#\" + \"ldavis_el44642778476412368120879213\", ldavis_el44642778476412368120879213_data);\n",
       "   }(LDAvis);\n",
       "}else if(typeof define === \"function\" && define.amd){\n",
       "   // require.js is available: use it to load d3/LDAvis\n",
       "   require.config({paths: {d3: \"https://d3js.org/d3.v5\"}});\n",
       "   require([\"d3\"], function(d3){\n",
       "      window.d3 = d3;\n",
       "      LDAvis_load_lib(\"https://cdn.jsdelivr.net/gh/bmabey/pyLDAvis@3.4.0/pyLDAvis/js/ldavis.v3.0.0.js\", function(){\n",
       "        new LDAvis(\"#\" + \"ldavis_el44642778476412368120879213\", ldavis_el44642778476412368120879213_data);\n",
       "      });\n",
       "    });\n",
       "}else{\n",
       "    // require.js not available: dynamically load d3 & LDAvis\n",
       "    LDAvis_load_lib(\"https://d3js.org/d3.v5.js\", function(){\n",
       "         LDAvis_load_lib(\"https://cdn.jsdelivr.net/gh/bmabey/pyLDAvis@3.4.0/pyLDAvis/js/ldavis.v3.0.0.js\", function(){\n",
       "                 new LDAvis(\"#\" + \"ldavis_el44642778476412368120879213\", ldavis_el44642778476412368120879213_data);\n",
       "            })\n",
       "         });\n",
       "}\n",
       "</script>"
      ],
      "text/plain": [
       "PreparedData(topic_coordinates=              x         y  topics  cluster       Freq\n",
       "topic                                                \n",
       "1      0.028757 -0.004605       1        1  43.227959\n",
       "0     -0.020641 -0.006766       2        1  35.410230\n",
       "4     -0.013076  0.003817       3        1  21.285030\n",
       "3      0.000726 -0.003058       4        1   0.038477\n",
       "2      0.004233  0.010612       5        1   0.038304, topic_info=         Term       Freq      Total Category  logprob  loglift\n",
       "282    square  20.000000  20.000000  Default  30.0000  30.0000\n",
       "164      game  23.000000  23.000000  Default  29.0000  29.0000\n",
       "234    player  22.000000  22.000000  Default  28.0000  28.0000\n",
       "79      chess  19.000000  19.000000  Default  27.0000  27.0000\n",
       "231     piece  16.000000  16.000000  Default  26.0000  26.0000\n",
       "..        ...        ...        ...      ...      ...      ...\n",
       "133     enemy   0.002013   6.441779   Topic5  -5.7098  -0.2036\n",
       "193    knight   0.002102   7.407058   Topic5  -5.6663  -0.2998\n",
       "445  computer   0.002115  18.093338   Topic5  -5.6603  -1.1869\n",
       "233      play   0.001994   9.672049   Topic5  -5.7192  -0.6195\n",
       "316       win   0.001994  10.244608   Topic5  -5.7191  -0.6769\n",
       "\n",
       "[342 rows x 6 columns], token_table=      Topic      Freq        Term\n",
       "term                             \n",
       "323       2  0.705158   1968–1978\n",
       "532       1  0.419565  Birmingham\n",
       "532       2  0.419565  Birmingham\n",
       "532       3  0.419565  Birmingham\n",
       "4         1  0.579796       Black\n",
       "...     ...       ...         ...\n",
       "316       2  0.390449         win\n",
       "316       3  0.195225         win\n",
       "529       1  0.274229        year\n",
       "529       2  0.548457        year\n",
       "529       3  0.274229        year\n",
       "\n",
       "[307 rows x 3 columns], R=30, lambda_step=0.01, plot_opts={'xlab': 'PC1', 'ylab': 'PC2'}, topic_order=[2, 1, 5, 4, 3])"
      ]
     },
     "execution_count": 38,
     "metadata": {},
     "output_type": "execute_result"
    }
   ],
   "source": [
    "plot"
   ]
  },
  {
   "cell_type": "code",
   "execution_count": null,
   "id": "cd8a99e7",
   "metadata": {},
   "outputs": [],
   "source": []
  }
 ],
 "metadata": {
  "kernelspec": {
   "display_name": "Python 3 (ipykernel)",
   "language": "python",
   "name": "python3"
  },
  "language_info": {
   "codemirror_mode": {
    "name": "ipython",
    "version": 3
   },
   "file_extension": ".py",
   "mimetype": "text/x-python",
   "name": "python",
   "nbconvert_exporter": "python",
   "pygments_lexer": "ipython3",
   "version": "3.9.12"
  }
 },
 "nbformat": 4,
 "nbformat_minor": 5
}
